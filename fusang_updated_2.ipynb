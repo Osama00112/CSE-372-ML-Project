{
  "cells": [
    {
      "cell_type": "markdown",
      "metadata": {
        "id": "view-in-github",
        "colab_type": "text"
      },
      "source": [
        "<a href=\"https://colab.research.google.com/github/Osama00112/CSE-372-ML-Project/blob/main/fusang_updated_2.ipynb\" target=\"_parent\"><img src=\"https://colab.research.google.com/assets/colab-badge.svg\" alt=\"Open In Colab\"/></a>"
      ]
    },
    {
      "cell_type": "code",
      "execution_count": null,
      "metadata": {
        "id": "691GgUnepI56",
        "colab": {
          "base_uri": "https://localhost:8080/"
        },
        "outputId": "63182298-705d-49c3-c34b-506d215f6894"
      },
      "outputs": [
        {
          "output_type": "stream",
          "name": "stdout",
          "text": [
            "Mounted at /content/drive\n"
          ]
        }
      ],
      "source": [
        "from google.colab import drive\n",
        "drive.mount('/content/drive')"
      ]
    },
    {
      "cell_type": "code",
      "execution_count": null,
      "metadata": {
        "id": "Phszd46ZqDLv",
        "colab": {
          "base_uri": "https://localhost:8080/"
        },
        "outputId": "96440df0-6558-4930-ab03-47ded5f83632"
      },
      "outputs": [
        {
          "output_type": "stream",
          "name": "stdout",
          "text": [
            " dl_model\t\t  example_dl_output\t        fusang.py  'public data'       simulation\n",
            " Environment_setting.md   example_msa\t\t        LICENSE     README.md\t       Train_data\n",
            " example_command.sh\t 'Experimental phylogeny.zip'   logo.jpg    requirements.txt\n"
          ]
        }
      ],
      "source": [
        "!ls /content/drive/MyDrive/ML\\ project/Fusang/source_code/"
      ]
    },
    {
      "cell_type": "code",
      "execution_count": null,
      "metadata": {
        "id": "X0QjWzd9qQTD"
      },
      "outputs": [],
      "source": [
        "req_path = \"/content/drive/MyDrive/ML project/Fusang/requirements.txt\"\n"
      ]
    },
    {
      "cell_type": "markdown",
      "metadata": {
        "id": "ktw9YYvDytvf"
      },
      "source": [
        "### Requirements install"
      ]
    },
    {
      "cell_type": "code",
      "execution_count": null,
      "metadata": {
        "colab": {
          "base_uri": "https://localhost:8080/"
        },
        "id": "5ywUMSyiqgYB",
        "outputId": "968e0e22-7544-4da1-94c0-5baa2bab8968"
      },
      "outputs": [
        {
          "output_type": "stream",
          "name": "stdout",
          "text": [
            "Requirement already satisfied: numpy in /usr/local/lib/python3.10/dist-packages (from -r /content/drive/MyDrive/ML project/Fusang/requirements.txt (line 1)) (1.25.2)\n",
            "\u001b[31mERROR: Could not find a version that satisfies the requirement tensorflow==2.3.1 (from versions: 2.8.0rc0, 2.8.0rc1, 2.8.0, 2.8.1, 2.8.2, 2.8.3, 2.8.4, 2.9.0rc0, 2.9.0rc1, 2.9.0rc2, 2.9.0, 2.9.1, 2.9.2, 2.9.3, 2.10.0rc0, 2.10.0rc1, 2.10.0rc2, 2.10.0rc3, 2.10.0, 2.10.1, 2.11.0rc0, 2.11.0rc1, 2.11.0rc2, 2.11.0, 2.11.1, 2.12.0rc0, 2.12.0rc1, 2.12.0, 2.12.1, 2.13.0rc0, 2.13.0rc1, 2.13.0rc2, 2.13.0, 2.13.1, 2.14.0rc0, 2.14.0rc1, 2.14.0, 2.14.1, 2.15.0rc0, 2.15.0rc1, 2.15.0, 2.15.0.post1, 2.16.0rc0)\u001b[0m\u001b[31m\n",
            "\u001b[0m\u001b[31mERROR: No matching distribution found for tensorflow==2.3.1\u001b[0m\u001b[31m\n",
            "\u001b[0m"
          ]
        }
      ],
      "source": [
        "!pip install -r /content/drive/MyDrive/ML\\ project/Fusang/requirements.txt"
      ]
    },
    {
      "cell_type": "code",
      "execution_count": null,
      "metadata": {
        "colab": {
          "base_uri": "https://localhost:8080/"
        },
        "id": "0Baa-TJYuHx2",
        "outputId": "a3e30eab-6efa-4fae-970d-db4c8fe8da6d"
      },
      "outputs": [
        {
          "output_type": "stream",
          "name": "stdout",
          "text": [
            "Collecting biopython\n",
            "  Downloading biopython-1.83-cp310-cp310-manylinux_2_17_x86_64.manylinux2014_x86_64.whl (3.1 MB)\n",
            "\u001b[2K     \u001b[90m━━━━━━━━━━━━━━━━━━━━━━━━━━━━━━━━━━━━━━━━\u001b[0m \u001b[32m3.1/3.1 MB\u001b[0m \u001b[31m13.6 MB/s\u001b[0m eta \u001b[36m0:00:00\u001b[0m\n",
            "\u001b[?25hRequirement already satisfied: numpy in /usr/local/lib/python3.10/dist-packages (from biopython) (1.25.2)\n",
            "Installing collected packages: biopython\n",
            "Successfully installed biopython-1.83\n",
            "Collecting ete3\n",
            "  Downloading ete3-3.1.3.tar.gz (4.8 MB)\n",
            "\u001b[2K     \u001b[90m━━━━━━━━━━━━━━━━━━━━━━━━━━━━━━━━━━━━━━━━\u001b[0m \u001b[32m4.8/4.8 MB\u001b[0m \u001b[31m15.9 MB/s\u001b[0m eta \u001b[36m0:00:00\u001b[0m\n",
            "\u001b[?25h  Preparing metadata (setup.py) ... \u001b[?25l\u001b[?25hdone\n",
            "Building wheels for collected packages: ete3\n",
            "  Building wheel for ete3 (setup.py) ... \u001b[?25l\u001b[?25hdone\n",
            "  Created wheel for ete3: filename=ete3-3.1.3-py3-none-any.whl size=2273785 sha256=8f1ecd265e878a19144081b84da38d7bc3320f4a215e33bcbc0f024431fa7dec\n",
            "  Stored in directory: /root/.cache/pip/wheels/a0/72/00/1982bd848e52b03079dbf800900120bc1c20e92e9a1216e525\n",
            "Successfully built ete3\n",
            "Installing collected packages: ete3\n",
            "Successfully installed ete3-3.1.3\n"
          ]
        }
      ],
      "source": [
        "!pip install biopython\n",
        "!pip install ete3"
      ]
    },
    {
      "cell_type": "markdown",
      "metadata": {
        "id": "4eb994seyyrA"
      },
      "source": [
        "### Imports"
      ]
    },
    {
      "cell_type": "code",
      "execution_count": null,
      "metadata": {
        "id": "uET-E75sqqP6"
      },
      "outputs": [],
      "source": [
        "import os\n",
        "import re\n",
        "import sys\n",
        "import numpy as np\n",
        "import functools\n",
        "import argparse\n",
        "from Bio import AlignIO\n",
        "from itertools import combinations\n",
        "\n",
        "import math\n",
        "import random\n",
        "import pandas as pd\n",
        "import tensorflow as tf\n",
        "from tensorflow.keras import layers, models, Sequential, regularizers\n",
        "\n",
        "from ete3 import Tree\n",
        "from pandas.core.frame import DataFrame\n",
        "\n",
        "global org_seq, comb_of_id, dl_model, dl_predict, len_of_msa, dic_for_leave_node_comb_name, start_end_list\n",
        "global taxa_num, leave_node_id, leave_node_name, leave_node_comb_id, leave_node_comb_name, internal_node_name_pool\n",
        "global loss_list, X_train_ext, y_train_ext\n",
        "\n",
        "from multiprocessing import Process, Pool\n",
        "import multiprocessing\n",
        "\n",
        "from tensorflow.keras import layers, optimizers\n",
        "from tqdm import tqdm"
      ]
    },
    {
      "cell_type": "markdown",
      "metadata": {
        "id": "Tg0kWaKVujnq"
      },
      "source": [
        "### Util functions\n",
        "- comb_math\n",
        "- nlargest_indices\n",
        "- get_quartet_ID"
      ]
    },
    {
      "cell_type": "code",
      "execution_count": null,
      "metadata": {
        "id": "6brnAJNtrOLb"
      },
      "outputs": [],
      "source": [
        "def comb_math(n,m):\n",
        "    return math.factorial(n)//(math.factorial(n-m)*math.factorial(m))\n",
        "\n",
        "\n",
        "def nlargest_indices(arr, n):\n",
        "    uniques = np.unique(arr)\n",
        "    threshold = uniques[-n]\n",
        "    return np.where(arr >= threshold)\n",
        "\n",
        "\n",
        "def get_quartet_ID(quartet):\n",
        "    return \"\".join(sorted(quartet))"
      ]
    },
    {
      "cell_type": "markdown",
      "metadata": {
        "id": "oKUeLSWTuoPj"
      },
      "source": [
        "### Tree from quartet"
      ]
    },
    {
      "cell_type": "code",
      "execution_count": null,
      "metadata": {
        "id": "47byFbLSum_f"
      },
      "outputs": [],
      "source": [
        "def tree_from_quartet(quartet):\n",
        "    root = Tree()\n",
        "    root.name = \"internal_node_0\"\n",
        "    left = root.add_child(name=\"internal_node_1\")\n",
        "    left.add_child(name=quartet[0])\n",
        "    left.add_child(name=quartet[1])\n",
        "    right = root.add_child(name=\"internal_node_2\")\n",
        "    right.add_child(name=quartet[2])\n",
        "    right.add_child(name=quartet[3])\n",
        "    for desc in root.iter_descendants():\n",
        "        desc.dist = 0\n",
        "    return root"
      ]
    },
    {
      "cell_type": "markdown",
      "metadata": {
        "id": "q_fVgcqKu8Z7"
      },
      "source": [
        "### Getting topology ID\n",
        "- Given a quartet\n",
        "- Given a quartet key and 2 clusters"
      ]
    },
    {
      "cell_type": "code",
      "execution_count": null,
      "metadata": {
        "id": "AOQrDCm-uxrz"
      },
      "outputs": [],
      "source": [
        "def get_topology_ID(quartet):\n",
        "    return get_quartet_ID(quartet[0:2]) + get_quartet_ID(quartet[2:4])\n",
        "\n",
        "\n",
        "def get_current_topology_id(quart_key, cluster_1, cluster_2):\n",
        "    ans = []\n",
        "    a1 = quart_key.index(cluster_1)\n",
        "    a2 = quart_key.index(cluster_2)\n",
        "    ans.append(str(a1))\n",
        "    ans.append(str(a2))\n",
        "    ans = set(ans)\n",
        "    if ans == {'0', '1'} or ans == {'2', '3'}:\n",
        "        return 0\n",
        "    elif ans == {'0', '2'} or ans == {'1', '3'}:\n",
        "        return 1\n",
        "    elif ans == {'0', '3'} or ans == {'1', '2'}:\n",
        "        return 2\n",
        "    else:\n",
        "        print('Error of function get_current_topology_id, exit the program')\n",
        "        sys.exit(0)"
      ]
    },
    {
      "cell_type": "markdown",
      "metadata": {
        "id": "iYxraziCvYQU"
      },
      "source": [
        "### Tree Functions\n",
        "- judge_tree_score\n",
        "- get_modify_tree"
      ]
    },
    {
      "cell_type": "code",
      "execution_count": null,
      "metadata": {
        "id": "xutyRM0Mu_pN"
      },
      "outputs": [],
      "source": [
        "def judge_tree_score(tree, quart_distribution, new_addition_taxa, dic_for_leave_node_comb_name):\n",
        "    '''\n",
        "        parameter\n",
        "        tree: a candidate tree, can be any taxas\n",
        "        quart_distribution: the prob distribution of the topology of every 4-taxa\n",
        "    '''\n",
        "    crt_tree = tree.copy(\"newick\")\n",
        "    leaves = crt_tree.get_leaves()\n",
        "\n",
        "    leaves = [ele.name for ele in leaves]\n",
        "    total_quarts = list(combinations(leaves, 4))\n",
        "    quarts = []\n",
        "    for ele in total_quarts:\n",
        "        if new_addition_taxa in ele:\n",
        "            quarts.append(ele)\n",
        "\n",
        "    total_quart_score = 0\n",
        "\n",
        "    for quart in quarts:\n",
        "        crt_tree = tree.copy(\"newick\")\n",
        "        try:\n",
        "            crt_tree.prune(list(quart))\n",
        "        except:\n",
        "            print('Error of pruning 4 taxa from current tree, the current tree is:')\n",
        "            print(crt_tree)\n",
        "            sys.exit(0)\n",
        "\n",
        "        quart_key = \"\".join(sorted(list(quart)))\n",
        "        #quart_topo_id = leave_node_comb_name.index(quart_key)\n",
        "\n",
        "        quart_topo_id = dic_for_leave_node_comb_name[quart_key]\n",
        "\n",
        "        quart_topo_distribution = quart_distribution[quart_topo_id]\n",
        "\n",
        "        # judge current tree belongs to which topology\n",
        "        tmp = re.findall(\"\\([\\s\\S]\\,[\\s\\S]\\)\", crt_tree.write(format=9))[0]\n",
        "        topology_id = get_current_topology_id(quart_key, tmp[1], tmp[3])\n",
        "\n",
        "        total_quart_score += np.log(quart_topo_distribution[topology_id]+1e-200)\n",
        "\n",
        "    return total_quart_score\n",
        "\n",
        "\n",
        "def get_modify_tree(tmp_tree, edge_0, edge_1, new_add_node_name):\n",
        "    '''\n",
        "        add a new leave node between edge_0 and edge_1\n",
        "        default: edge_0 is the parent node of edge_1\n",
        "    '''\n",
        "    modify_tree = tmp_tree.copy(\"newick\")\n",
        "    if edge_0 != edge_1:\n",
        "        new_node = Tree()\n",
        "        new_node.add_child(name=new_add_node_name)\n",
        "        detached_node = modify_tree&edge_1\n",
        "        detached = detached_node.detach()\n",
        "        inserted_node = modify_tree&edge_0\n",
        "        inserted_node.add_child(new_node)\n",
        "        new_node.add_child(detached_node)\n",
        "\n",
        "    else:\n",
        "        modify_tree.add_child(name=new_add_node_name)\n",
        "\n",
        "    return modify_tree\n"
      ]
    },
    {
      "cell_type": "markdown",
      "metadata": {
        "id": "1ZTO6xa4vmGj"
      },
      "source": [
        "### Search branch function"
      ]
    },
    {
      "cell_type": "code",
      "execution_count": null,
      "metadata": {
        "id": "vWUW3gyOvh2W"
      },
      "outputs": [],
      "source": [
        "def search_this_branch(tmp_tree, edge_0, edge_1, current_quartets, current_leave_node_name, queue, dic_for_leave_node_comb_name):\n",
        "    modify_tree = get_modify_tree(tmp_tree, edge_0, edge_1, current_leave_node_name)\n",
        "    modify_tree.resolve_polytomy(recursive=True)\n",
        "    modify_tree.unroot()\n",
        "    tmp_tree_score = judge_tree_score(modify_tree, current_quartets, current_leave_node_name, dic_for_leave_node_comb_name)\n",
        "\n",
        "    dic = {}\n",
        "    dic['tree'] = modify_tree\n",
        "    dic['score'] = tmp_tree_score\n",
        "    queue.put(dic)"
      ]
    },
    {
      "cell_type": "markdown",
      "metadata": {
        "id": "c9t8yTSavyOC"
      },
      "source": [
        "### Mask Functions"
      ]
    },
    {
      "cell_type": "code",
      "execution_count": null,
      "metadata": {
        "id": "gXtHSLR3v0qN"
      },
      "outputs": [],
      "source": [
        "def select_mask_node_pair(dl_predict, new_add_taxa):\n",
        "\n",
        "    if new_add_taxa <= 9:\n",
        "        return None\n",
        "\n",
        "    mask_node_pair = []\n",
        "\n",
        "    current_start = start_end_list[new_add_taxa][0]\n",
        "    current_end = start_end_list[new_add_taxa][1]\n",
        "    select_distribution = dl_predict[current_start:current_end+1]\n",
        "    if np.max(select_distribution) < 0.90:\n",
        "        return None\n",
        "    else:\n",
        "        x,y = nlargest_indices(select_distribution, int(max(10,0.01*len(select_distribution))))\n",
        "\n",
        "    for i in range(0,len(x)):\n",
        "        idx = x[i]\n",
        "        topology_value = y[i]\n",
        "        quartet_comb = comb_of_id[current_start+idx]\n",
        "\n",
        "        if topology_value == 0:\n",
        "            mask_node_pair.append((quartet_comb[0],quartet_comb[1]))\n",
        "        if topology_value == 1:\n",
        "            mask_node_pair.append((quartet_comb[0],quartet_comb[2]))\n",
        "        if topology_value == 2:\n",
        "            mask_node_pair.append((quartet_comb[1],quartet_comb[2]))\n",
        "\n",
        "    return mask_node_pair\n",
        "\n",
        "\n",
        "def mask_edge(tree,node1,node2,edge_list):\n",
        "    # mask edge between node1 and node2\n",
        "\n",
        "    if len(edge_list) <= 3:\n",
        "        return edge_list\n",
        "\n",
        "    ancestor_name = tree.get_common_ancestor(node1,node2).name\n",
        "    remove_edge = []\n",
        "\n",
        "    node = tree.search_nodes(name=node1)[0]\n",
        "    while node:\n",
        "        if node.name == ancestor_name:\n",
        "            break\n",
        "\n",
        "        edge_0 = node.up.name\n",
        "        edge_1 = node.name\n",
        "\n",
        "        if len(remove_edge) >= len(edge_list) - 3:\n",
        "            break\n",
        "        remove_edge.append((edge_0, edge_1))\n",
        "        node = node.up\n",
        "\n",
        "    node = tree.search_nodes(name=node2)[0]\n",
        "    while node:\n",
        "        if node.name == ancestor_name:\n",
        "            break\n",
        "\n",
        "        edge_0 = node.up.name\n",
        "        edge_1 = node.name\n",
        "\n",
        "        if len(remove_edge) >= len(edge_list) - 3:\n",
        "            break\n",
        "        remove_edge.append((edge_0, edge_1))\n",
        "        node = node.up\n",
        "\n",
        "    for ele in remove_edge:\n",
        "        if ele in edge_list:\n",
        "            edge_list.remove(ele)\n",
        "\n",
        "    return edge_list"
      ]
    },
    {
      "cell_type": "markdown",
      "metadata": {
        "id": "CIcW-K8TwLKT"
      },
      "source": [
        "### Gen_phylogen_tree\n",
        "search phylo tree having highest score"
      ]
    },
    {
      "cell_type": "code",
      "execution_count": null,
      "metadata": {
        "id": "XfSM4Lo0v6Z6"
      },
      "outputs": [],
      "source": [
        "def gen_phylogenetic_tree(current_quartets, beam_size):\n",
        "    '''\n",
        "        search the phylogenetic tree having highest score\n",
        "        idx: the name of numpy file\n",
        "    '''\n",
        "    current_leave_node_name = [chr(ord(u'\\u4e00')+i) for i in range(0, taxa_num)]\n",
        "\n",
        "    candidate_tree_beam = []\n",
        "\n",
        "    quartet_id = leave_node_comb_name[0]\n",
        "\n",
        "    for _label in [0, 1, 2]:\n",
        "        if _label == 0:\n",
        "            label_id = \"\".join([quartet_id[0], quartet_id[1], quartet_id[2], quartet_id[3]])\n",
        "        elif _label == 1:\n",
        "            label_id = \"\".join([quartet_id[0], quartet_id[2], quartet_id[1], quartet_id[3]])\n",
        "        elif _label == 2:\n",
        "            label_id = \"\".join([quartet_id[0], quartet_id[3], quartet_id[1], quartet_id[2]])\n",
        "\n",
        "        _tree = tree_from_quartet(label_id)\n",
        "        _tree.unroot()\n",
        "\n",
        "        _tree_score = current_quartets[0, _label]\n",
        "\n",
        "        tmp_tree_dict = {'Tree':_tree, 'tree_score':_tree_score}\n",
        "        candidate_tree_beam.append(tmp_tree_dict)\n",
        "\n",
        "        candidate_tree_beam.sort(key=lambda k: -k['tree_score'])\n",
        "\n",
        "    idx_for_internal_node_name_pool = 0\n",
        "\n",
        "    current_tree_score_beam = []\n",
        "    optim_tree_beam = []\n",
        "\n",
        "    #in the start point set beam size equal to 3\n",
        "    for i in range(0, 3):\n",
        "        current_tree_score_beam.append(candidate_tree_beam[i]['tree_score'])\n",
        "        optim_tree_beam.append(candidate_tree_beam[i]['Tree'])\n",
        "\n",
        "    for i in range(4, len(current_leave_node_name)):\n",
        "        candidate_tree_beam = []\n",
        "\n",
        "        for j in range(0, len(optim_tree_beam)):\n",
        "            ele = optim_tree_beam[j]\n",
        "\n",
        "            idx_for_this_iter = 0\n",
        "\n",
        "            edge_0_list = []\n",
        "            edge_1_list = []\n",
        "\n",
        "            if ele == None:\n",
        "                continue\n",
        "            optim_tree = ele.copy(\"newick\")\n",
        "\n",
        "            for node in optim_tree.iter_descendants():\n",
        "                tmp_tree = optim_tree.copy(\"newick\")\n",
        "                edge_0 = node.up.name\n",
        "                edge_1 = node.name\n",
        "                if edge_0 == '' or edge_1 == '':\n",
        "                    continue\n",
        "\n",
        "                else:\n",
        "                    edge_0_list.append(edge_0)\n",
        "                    edge_1_list.append(edge_1)\n",
        "\n",
        "            queue = multiprocessing.Manager().Queue()\n",
        "            para_list = [(tmp_tree, edge_0_list[k], edge_1_list[k], current_quartets, current_leave_node_name[i], queue, dic_for_leave_node_comb_name) for k in range(0, len(edge_0_list))]\n",
        "\n",
        "            process_num = min(64, 2*i+6)\n",
        "            pool = Pool(process_num)\n",
        "            pool.starmap(search_this_branch, para_list)\n",
        "            pool.close()\n",
        "            pool.join()\n",
        "\n",
        "            candidate_tree_score = []\n",
        "            candidate_tree = []\n",
        "\n",
        "            while not queue.empty():\n",
        "                tmp_dic = queue.get()\n",
        "\n",
        "                tmp_tree_dict = {'Tree':tmp_dic['tree'], 'tree_score':tmp_dic['score']+current_tree_score_beam[j]}\n",
        "                candidate_tree_beam.append(tmp_tree_dict)\n",
        "\n",
        "        candidate_tree_beam.sort(key=lambda k: -k['tree_score'])\n",
        "        candidate_tree_beam = candidate_tree_beam[0:beam_size]\n",
        "\n",
        "        optim_tree_beam = []\n",
        "        current_tree_score_beam = []\n",
        "        for ele in candidate_tree_beam:\n",
        "            crt_tree = ele['Tree'].copy(\"newick\")\n",
        "            for node in crt_tree.traverse(\"preorder\"):\n",
        "                if node.name == '':\n",
        "                    node.name = str(internal_node_name_pool[idx_for_internal_node_name_pool])\n",
        "                    idx_for_internal_node_name_pool += 1\n",
        "            optim_tree_beam.append(crt_tree)\n",
        "            crt_tree_score = ele['tree_score']\n",
        "            current_tree_score_beam.append(crt_tree_score)\n",
        "\n",
        "    return optim_tree_beam[0].write(format=9)\n",
        "\n",
        "\n",
        "def gen_phylogenetic_tree_2(current_quartets, beam_size):\n",
        "    '''\n",
        "        search the phylogenetic tree having highest score\n",
        "        idx: the name of numpy file\n",
        "    '''\n",
        "    current_leave_node_name = [chr(ord(u'\\u4e00')+i) for i in range(0, taxa_num)]\n",
        "\n",
        "    candidate_tree_beam = []\n",
        "\n",
        "    quartet_id = leave_node_comb_name[0]\n",
        "\n",
        "    for _label in [0, 1, 2]:\n",
        "        if _label == 0:\n",
        "            label_id = \"\".join([quartet_id[0], quartet_id[1], quartet_id[2], quartet_id[3]])\n",
        "        elif _label == 1:\n",
        "            label_id = \"\".join([quartet_id[0], quartet_id[2], quartet_id[1], quartet_id[3]])\n",
        "        elif _label == 2:\n",
        "            label_id = \"\".join([quartet_id[0], quartet_id[3], quartet_id[1], quartet_id[2]])\n",
        "\n",
        "        _tree = tree_from_quartet(label_id)\n",
        "        _tree.unroot()\n",
        "\n",
        "        _tree_score = current_quartets[0, _label]\n",
        "\n",
        "        tmp_tree_dict = {'Tree':_tree, 'tree_score':_tree_score}\n",
        "        candidate_tree_beam.append(tmp_tree_dict)\n",
        "\n",
        "        candidate_tree_beam.sort(key=lambda k: -k['tree_score'])\n",
        "\n",
        "    idx_for_internal_node_name_pool = 0\n",
        "\n",
        "    current_tree_score_beam = []\n",
        "    optim_tree_beam = []\n",
        "\n",
        "    #in the start point set beam size equal to 3\n",
        "    for i in range(0, 3):\n",
        "        current_tree_score_beam.append(candidate_tree_beam[i]['tree_score'])\n",
        "        optim_tree_beam.append(candidate_tree_beam[i]['Tree'])\n",
        "\n",
        "    for i in range(4, len(current_leave_node_name)):\n",
        "        candidate_tree_beam = []\n",
        "\n",
        "        for j in range(0, len(optim_tree_beam)):\n",
        "            ele = optim_tree_beam[j]\n",
        "\n",
        "            idx_for_this_iter = 0\n",
        "\n",
        "            edge_0_list = []\n",
        "            edge_1_list = []\n",
        "\n",
        "            if ele == None:\n",
        "                continue\n",
        "            optim_tree = ele.copy(\"newick\")\n",
        "\n",
        "            for node in optim_tree.iter_descendants():\n",
        "                tmp_tree = optim_tree.copy(\"newick\")\n",
        "                edge_0 = node.up.name\n",
        "                edge_1 = node.name\n",
        "                if edge_0 == '' or edge_1 == '':\n",
        "                    continue\n",
        "\n",
        "                else:\n",
        "                    edge_0_list.append(edge_0)\n",
        "                    edge_1_list.append(edge_1)\n",
        "\n",
        "            edge_list = [(edge_0_list[i], edge_1_list[i]) for i in range(0, len(edge_0_list))]\n",
        "            mask_node_pairs = select_mask_node_pair(current_quartets, i)\n",
        "\n",
        "            if mask_node_pairs != None:\n",
        "\n",
        "                mask_node_pairs = list(set(mask_node_pairs))\n",
        "                for node_pairs in mask_node_pairs:\n",
        "                    node1 = chr(ord(u'\\u4e00')+node_pairs[0])\n",
        "                    node2 = chr(ord(u'\\u4e00')+node_pairs[1])\n",
        "\n",
        "                    edge_list = mask_edge(ele.copy(\"deepcopy\"),node1,node2,edge_list)\n",
        "                    if len(edge_list) <= 3:\n",
        "                        break\n",
        "\n",
        "            edge_0_list = [ele[0] for ele in edge_list]\n",
        "            edge_1_list = [ele[1] for ele in edge_list]\n",
        "\n",
        "            queue = multiprocessing.Manager().Queue()\n",
        "            para_list = [(tmp_tree, edge_0_list[k], edge_1_list[k], current_quartets, current_leave_node_name[i], queue, dic_for_leave_node_comb_name) for k in range(0, len(edge_0_list))]\n",
        "\n",
        "            process_num = min(64, len(edge_0_list))\n",
        "            pool = Pool(process_num)\n",
        "            pool.starmap(search_this_branch, para_list)\n",
        "            pool.close()\n",
        "            pool.join()\n",
        "\n",
        "            candidate_tree_score = []\n",
        "            candidate_tree = []\n",
        "\n",
        "            while not queue.empty():\n",
        "                tmp_dic = queue.get()\n",
        "\n",
        "                tmp_tree_dict = {'Tree':tmp_dic['tree'], 'tree_score':tmp_dic['score']+current_tree_score_beam[j]}\n",
        "                candidate_tree_beam.append(tmp_tree_dict)\n",
        "\n",
        "        candidate_tree_beam.sort(key=lambda k: -k['tree_score'])\n",
        "        candidate_tree_beam = candidate_tree_beam[0:beam_size]\n",
        "\n",
        "        optim_tree_beam = []\n",
        "        current_tree_score_beam = []\n",
        "        for ele in candidate_tree_beam:\n",
        "            crt_tree = ele['Tree'].copy(\"newick\")\n",
        "            for node in crt_tree.traverse(\"preorder\"):\n",
        "                if node.name == '':\n",
        "                    node.name = str(internal_node_name_pool[idx_for_internal_node_name_pool])\n",
        "                    idx_for_internal_node_name_pool += 1\n",
        "            optim_tree_beam.append(crt_tree)\n",
        "            crt_tree_score = ele['tree_score']\n",
        "            current_tree_score_beam.append(crt_tree_score)\n",
        "\n",
        "    return optim_tree_beam[0].write(format=9)"
      ]
    },
    {
      "cell_type": "markdown",
      "metadata": {
        "id": "koH5cm-fxLIC"
      },
      "source": [
        "### Util functions\n",
        "- transform_str\n",
        "- cmp\n",
        "- get_numpy"
      ]
    },
    {
      "cell_type": "code",
      "execution_count": null,
      "metadata": {
        "id": "VAcbvEEEwYWk"
      },
      "outputs": [],
      "source": [
        "def transform_str(str_a, taxa_name):\n",
        "    str_b = ''\n",
        "    id_set = [chr(ord(u'\\u4e00')+i) for i in range(0, taxa_num)]\n",
        "\n",
        "    for i in range(0, len(str_a)):\n",
        "        if str_a[i] in id_set:\n",
        "            str_b += taxa_name[ord(str_a[i])-ord(u'\\u4e00')]\n",
        "        else:\n",
        "            str_b += str_a[i]\n",
        "\n",
        "    return str_b\n",
        "\n",
        "\n",
        "def cmp(a, b):\n",
        "    if int(b) > int(a):\n",
        "        return -1\n",
        "    if int(a) < int(b):\n",
        "        return 1\n",
        "    return 0\n",
        "\n",
        "\n",
        "def get_numpy(aln_file):\n",
        "    '''\n",
        "        current version only supports the total length of msa less than 10K\n",
        "    '''\n",
        "    aln = open(aln_file)\n",
        "    dic = {'A':'0','T':'1','C':'2','G':'3','-':'4', 'N':'4'}\n",
        "\n",
        "    # for masking other unknown bases\n",
        "    other_base = ['R', 'Y', 'K', 'M', 'U', 'S', 'W', 'B', 'D', 'H', 'V', 'X']\n",
        "    for ele in other_base:\n",
        "        dic[ele] = '4'\n",
        "\n",
        "    matrix_out=[]\n",
        "    fasta_dic={}\n",
        "    for line in aln:\n",
        "        if line[0]==\">\":\n",
        "            header=line[1:].rstrip('\\n').strip()\n",
        "            fasta_dic[header]=[]\n",
        "        elif line[0].isalpha() or line[0]=='-':\n",
        "            for base, num in dic.items():\n",
        "                line=line[:].rstrip('\\n').strip().replace(base,num)\n",
        "            line=list(line)\n",
        "            line=[int(n) for n in line]\n",
        "            fasta_dic[header] += line+[4]*(14000-len(line))\n",
        "\n",
        "    taxa_block=[]\n",
        "    for taxa in sorted(list(fasta_dic.keys()), key=functools.cmp_to_key(cmp)):\n",
        "        taxa_block.append(fasta_dic[taxa.strip()])\n",
        "    fasta_dic={}\n",
        "    matrix_out.append(taxa_block)\n",
        "\n",
        "    return np.array(matrix_out)\n",
        "\n",
        "\n",
        "# def gen_quartet_seq(str, id, start_point):\n",
        "#     index = np.array(str)\n",
        "#     end_point = start_point + 1200\n",
        "#     current_quartet = org_seq[0,index[:],start_point:end_point]\n",
        "#     quartet_seq[id, comb_of_id.index(str)] = current_quartet\n",
        "\n",
        "\n",
        "# def gen_quartet_seq_2(str, id, start_point):\n",
        "#     index = np.array(str)\n",
        "#     end_point = start_point + 240\n",
        "#     current_quartet = org_seq[0,index[:],start_point:end_point]\n",
        "#     quartet_seq[id, comb_of_id.index(str)] = current_quartet"
      ]
    },
    {
      "cell_type": "markdown",
      "metadata": {
        "id": "gsRn9CzTxDVT"
      },
      "source": [
        "### Defining DL models for different lenghts (>1200 or >240)"
      ]
    },
    {
      "cell_type": "code",
      "execution_count": null,
      "metadata": {
        "id": "q8CBCQuPxolj"
      },
      "outputs": [],
      "source": [
        "def get_resnext_dl_model_240():\n",
        "    '''\n",
        "    get the definition of dl model 240\n",
        "    this model aims to solve the short length case\n",
        "    which are length larger than 240\n",
        "    '''\n",
        "    conv_x=[4,1,1,1,1,1,1,1]\n",
        "    conv_y=[1,2,2,2,2,2,2,2]\n",
        "    pool=[1,2,2,2,2,2,2,2]\n",
        "    filter_s=[1024,1024,128,128,128,128,128,128]\n",
        "    visible = layers.Input(shape=(4,240,1))\n",
        "    x = visible\n",
        "    print(11111)\n",
        "\n",
        "    # first 2 layers as it was\n",
        "    for l in list(range(0,2)):\n",
        "        x = layers.ZeroPadding2D(padding=((0, 0), (0,conv_y[l]-1)))(x)\n",
        "        x = layers.Conv2D(filters=filter_s[l], kernel_size=(conv_x[l], conv_y[l]), strides=1, activation='relu')(x)\n",
        "        x = layers.BatchNormalization()(x)\n",
        "        x = layers.Dropout(rate=0.2)(x)\n",
        "        x = layers.AveragePooling2D(pool_size=(1,pool[l]))(x)\n",
        "\n",
        "    print(x.shape)\n",
        "    for _ in range(3):  # Loop 3 times for ResNeXt block\n",
        "        # Split\n",
        "        # print(x.shape[3]/32)\n",
        "        div=x.shape[3]/32\n",
        "        # div=4\n",
        "        # splits = []\n",
        "\n",
        "        # for i in range(32):  # Assuming 32 parallel channels\n",
        "        #     split = layers.Lambda(lambda x: x[:, :, :, int(i*div):int((i+1)*div)])(x)\n",
        "        #     splits.append(split)\n",
        "        splits = tf.split(x, num_or_size_splits=32, axis=-1)\n",
        "        print(splits[0].shape)\n",
        "\n",
        "        # transforms = []\n",
        "        j=0\n",
        "        for split in splits:\n",
        "            # Transform\n",
        "            # transform = layers.ZeroPadding2D(padding=((0, 0), (0,1)))(split)\n",
        "            transform = layers.Conv2D(filters=4, kernel_size=(1, 2), strides=1, activation='relu',padding='same')(split)\n",
        "            transform = layers.BatchNormalization()(transform)\n",
        "            transform = layers.Dropout(rate=0.2)(transform)\n",
        "            transform = layers.AveragePooling2D(pool_size=(1, 2))(transform)\n",
        "\n",
        "            # transform = layers.ZeroPadding2D(padding=((0, 0), (0,1)))(transform)\n",
        "            transform = layers.Conv2D(filters=4, kernel_size=(1, 2), strides=1, activation='relu',padding='same')(transform)\n",
        "            transform = layers.BatchNormalization()(transform)\n",
        "            transform = layers.Dropout(rate=0.2)(transform)\n",
        "            transform = layers.AveragePooling2D(pool_size=(1, 2))(transform)\n",
        "\n",
        "            # transforms.append(transform)\n",
        "            if j==0:\n",
        "              transforms=transform\n",
        "            else:\n",
        "              transforms = layers.concatenate([transforms,transform], axis=-1)\n",
        "            j+=1\n",
        "\n",
        "        print('t ',transforms.shape)\n",
        "\n",
        "        # Concatenate\n",
        "        x_1 = layers.AveragePooling2D(pool_size=(1, 2))(x)\n",
        "        x_1 = layers.AveragePooling2D(pool_size=(1, 2))(x_1)\n",
        "        x_1 = layers.Conv2D(filters=128, kernel_size=(1, 1), strides=1, activation='relu')(x_1)\n",
        "        print('x1 ',x_1.shape)\n",
        "        # x_1 = layers.concatenate(transforms, axis=-1)\n",
        "        x = layers.Add()([x_1, transforms])\n",
        "\n",
        "    flat = layers.Flatten()(x)\n",
        "\n",
        "    y = tf.keras.layers.Reshape((4,240))(visible)\n",
        "    y = tf.keras.layers.Bidirectional(tf.keras.layers.LSTM(128,return_sequences=True))(y)\n",
        "    y = tf.keras.layers.Bidirectional(tf.keras.layers.LSTM(128,return_sequences=True))(y)\n",
        "    y = tf.keras.layers.Bidirectional(tf.keras.layers.LSTM(128))(y)\n",
        "    flat = tf.keras.layers.concatenate([flat, y],axis=-1)\n",
        "\n",
        "    hidden1 = layers.Dense(1024,activation='relu')(flat)\n",
        "    hidden1 = layers.Dense(32,activation='relu')(hidden1)\n",
        "    drop1 = layers.Dropout(rate=0.2)(hidden1)\n",
        "    output = layers.Dense(3, activation='softmax')(drop1)\n",
        "    model = tf.keras.Model(inputs=visible, outputs=output)\n",
        "\n",
        "    return model\n",
        "\n",
        "\n",
        "def get_dl_model_1200():\n",
        "    '''\n",
        "    get the definition of dl model 1200\n",
        "    this model aims to solve the default case\n",
        "    which are length larger than 1200\n",
        "    '''\n",
        "    conv_x=[4,1,1,1,1,1,1,1]\n",
        "    conv_y=[1,2,2,2,2,2,2,2]\n",
        "    pool=[1,4,4,4,2,2,2,1]\n",
        "    filter_s=[1024,1024,128,128,128,128,128,128]\n",
        "\n",
        "    visible = layers.Input(shape=(4,1200,1))\n",
        "    x = visible\n",
        "\n",
        "    # skip_connections = []\n",
        "\n",
        "    # # Initial convolutional layer\n",
        "    # x = layers.Conv2D(filters=filter_s[0], kernel_size=(conv_x[0], conv_y[0]), strides=1, padding='same', activation='relu')(input_tensor)\n",
        "    # x = layers.BatchNormalization()(x)\n",
        "    # x = layers.Dropout(rate=0.2)(x)\n",
        "    # x = layers.AveragePooling2D(pool_size=(1,pool[0]))(x)\n",
        "\n",
        "    # # Append output of initial layer to skip connections list\n",
        "    # skip_connections.append(x)\n",
        "\n",
        "\n",
        "    for l in list(range(0,8)):\n",
        "        x = layers.ZeroPadding2D(padding=((0, 0), (0,conv_y[l]-1)))(x)\n",
        "        x = layers.Conv2D(filters=filter_s[l], kernel_size=(conv_x[l], conv_y[l]), strides=1, activation='relu')(x)\n",
        "        x = layers.BatchNormalization()(x)\n",
        "        x = layers.Dropout(rate=0.2)(x)\n",
        "        x = layers.AveragePooling2D(pool_size=(1,pool[l]))(x)\n",
        "\n",
        "        # if i%2==1:\n",
        "        #     if i==1:\n",
        "        #         skip_connections.append(x)\n",
        "        #     else:\n",
        "        #         earlier_layer = skip_connections[-1]\n",
        "        #         # Sum the current layer's output with earlier layer's output\n",
        "        #         x = layers.add([x, earlier_layer])\n",
        "        #         # Append current layer's output to skip connections\n",
        "        #         skip_connections.append(x)\n",
        "        # # if i % 2 == 1:\n",
        "        # #     # Get the earlier layer from skip connections\n",
        "        # #     earlier_layer = skip_connections[-1]\n",
        "        # #     # Sum the current layer's output with earlier layer's output\n",
        "        # #     x = layers.add([x, earlier_layer])\n",
        "        # #     # Append current layer's output to skip connections\n",
        "        # #     skip_connections.append(x)\n",
        "\n",
        "    flat = layers.Flatten()(x)\n",
        "\n",
        "    y = tf.keras.layers.Reshape((4,1200))(visible)\n",
        "    y = tf.keras.layers.Bidirectional(tf.keras.layers.LSTM(128,return_sequences=True))(y)\n",
        "    y = tf.keras.layers.Bidirectional(tf.keras.layers.LSTM(128,return_sequences=True))(y)\n",
        "    y = tf.keras.layers.Bidirectional(tf.keras.layers.LSTM(128))(y)\n",
        "    flat = tf.keras.layers.concatenate([flat, y],axis=-1)\n",
        "\n",
        "    hidden1 = layers.Dense(1024,activation='relu')(flat)\n",
        "    drop1 = layers.Dropout(rate=0.2)(hidden1)\n",
        "    output = layers.Dense(3, activation='softmax')(drop1)\n",
        "    model = tf.keras.Model(inputs=visible, outputs=output)\n",
        "\n",
        "    return model\n",
        "\n",
        "\n",
        "def get_dl_model_240():\n",
        "    '''\n",
        "    get the definition of dl model 240\n",
        "    this model aims to solve the short length case\n",
        "    which are length larger than 240\n",
        "    '''\n",
        "    conv_x=[4,1,1,1,1,1,1,1]\n",
        "    conv_y=[1,2,2,2,2,2,2,2]\n",
        "    pool=[1,2,2,2,2,2,2,2]\n",
        "    filter_s=[1024,1024,128,128,128,128,128,128]\n",
        "\n",
        "    visible = layers.Input(shape=(4,240,1))\n",
        "    x = visible\n",
        "\n",
        "    for l in list(range(0,8)):\n",
        "        x = layers.ZeroPadding2D(padding=((0, 0), (0,conv_y[l]-1)))(x)\n",
        "        x = layers.Conv2D(filters=filter_s[l], kernel_size=(conv_x[l], conv_y[l]), strides=1, activation='relu')(x)\n",
        "        x = layers.BatchNormalization()(x)\n",
        "        x = layers.Dropout(rate=0.2)(x)\n",
        "        x = layers.AveragePooling2D(pool_size=(1,pool[l]))(x)\n",
        "\n",
        "        #print(x.shape)\n",
        "\n",
        "    flat = layers.Flatten()(x)\n",
        "\n",
        "    y = tf.keras.layers.Reshape((4,240))(visible)\n",
        "    y = tf.keras.layers.Bidirectional(tf.keras.layers.LSTM(128,return_sequences=True))(y)\n",
        "    y = tf.keras.layers.Bidirectional(tf.keras.layers.LSTM(128,return_sequences=True))(y)\n",
        "    y = tf.keras.layers.Bidirectional(tf.keras.layers.LSTM(128))(y)\n",
        "    flat = tf.keras.layers.concatenate([flat, y],axis=-1)\n",
        "\n",
        "    hidden1 = layers.Dense(1024,activation='relu')(flat)\n",
        "    drop1 = layers.Dropout(rate=0.2)(hidden1)\n",
        "    output = layers.Dense(3, activation='softmax')(drop1)\n",
        "    model = tf.keras.Model(inputs=visible, outputs=output)\n",
        "\n",
        "    return model\n",
        "\n",
        "\n",
        "\n",
        "# def get_resnext_dl_model_240():\n",
        "#     '''\n",
        "#     get the definition of dl model 240\n",
        "#     this model aims to solve the short length case\n",
        "#     which are length larger than 240\n",
        "#     '''\n",
        "#     conv_x=[4,1,1,1,1,1,1,1]\n",
        "#     conv_y=[1,2,2,2,2,2,2,2]\n",
        "#     pool=[1,2,2,2,2,2,2,2]\n",
        "#     filter_s=[1024,1024,128,128,128,128,128,128]\n",
        "#     visible = layers.Input(shape=(4,240,1))\n",
        "#     x = visible\n",
        "\n",
        "#     # first 2 layers as it was\n",
        "#     for l in list(range(0,2)):\n",
        "#         x = layers.ZeroPadding2D(padding=((0, 0), (0,conv_y[l]-1)))(x)\n",
        "#         x = layers.Conv2D(filters=filter_s[l], kernel_size=(conv_x[l], conv_y[l]), strides=1, activation='relu')(x)\n",
        "#         x = layers.BatchNormalization()(x)\n",
        "#         x = layers.Dropout(rate=0.2)(x)\n",
        "#         x = layers.AveragePooling2D(pool_size=(1,pool[l]))(x)\n",
        "#     for _ in range(3):  # Loop 3 times for ResNeXt block\n",
        "#         # Split\n",
        "#         splits = []\n",
        "#         for i in range(32):  # Assuming 32 parallel channels\n",
        "#             split = layers.Lambda(lambda x: x[:, :, :, i*4:(i+1)*4])(x)\n",
        "#             splits.append(split)\n",
        "\n",
        "#         transforms = []\n",
        "#         for split in splits:\n",
        "#             # Transform\n",
        "#             transform = layers.Conv2D(filters=4, kernel_size=(1, 2), strides=1, activation='relu')(split)\n",
        "#             transform = layers.BatchNormalization()(transform)\n",
        "#             transform = layers.Dropout(rate=0.2)(transform)\n",
        "#             transform = layers.AveragePooling2D(pool_size=(1, 2))(transform)\n",
        "#             transforms.append(transform)\n",
        "\n",
        "#         # Concatenate\n",
        "#         x = layers.concatenate(transforms, axis=-1)\n",
        "\n",
        "#     flat = layers.Flatten()(x)\n",
        "\n",
        "#     y = tf.keras.layers.Reshape((4,240))(visible)\n",
        "#     y = tf.keras.layers.Bidirectional(tf.keras.layers.LSTM(128,return_sequences=True))(y)\n",
        "#     y = tf.keras.layers.Bidirectional(tf.keras.layers.LSTM(128,return_sequences=True))(y)\n",
        "#     y = tf.keras.layers.Bidirectional(tf.keras.layers.LSTM(128))(y)\n",
        "#     flat = tf.keras.layers.concatenate([flat, y],axis=-1)\n",
        "\n",
        "#     hidden1 = layers.Dense(1024,activation='relu')(flat)\n",
        "#     drop1 = layers.Dropout(rate=0.2)(hidden1)\n",
        "#     output = layers.Dense(3, activation='softmax')(drop1)\n",
        "#     model = tf.keras.Model(inputs=visible, outputs=output)\n",
        "\n",
        "#     return model"
      ]
    },
    {
      "cell_type": "markdown",
      "metadata": {
        "id": "uxRAoYHCx3wy"
      },
      "source": [
        "### Predict Functions (slide_window)"
      ]
    },
    {
      "cell_type": "code",
      "execution_count": null,
      "metadata": {
        "id": "1DM9kfaSxpi8"
      },
      "outputs": [],
      "source": [
        "def fill_dl_predict_each_slide_window(len_idx_1, len_idx_2):\n",
        "    start_pos = 0\n",
        "    iters = len(comb_of_id) // 50000\n",
        "    for i in range(0, iters):\n",
        "        batch_seq = np.zeros((50000, 4, 1200))\n",
        "\n",
        "        for j in range(0, len(batch_seq)):\n",
        "            idx = np.array(comb_of_id[i*50000+j])\n",
        "            batch_seq[j] = org_seq[0, idx[:], len_idx_1:len_idx_2]\n",
        "\n",
        "        test_seq = tf.expand_dims(batch_seq.astype(np.float32), axis=-1)\n",
        "        predicted = dl_model.predict(x=test_seq)\n",
        "\n",
        "        for j in range(0, len(batch_seq)):\n",
        "            dl_predict[i*50000+j,:] += predicted[j,:]\n",
        "        #dl_predict[i*50000:i*50000+len(batch_seq),:] += predicted[:,:]\n",
        "\n",
        "        start_pos += 50000\n",
        "\n",
        "    last_batch_size = len(comb_of_id) % 50000\n",
        "    batch_seq = np.zeros((last_batch_size, 4, 1200))\n",
        "\n",
        "\n",
        "\n",
        "    for j in range(0, len(batch_seq)):\n",
        "        idx = np.array(comb_of_id[iters*50000+j])\n",
        "        batch_seq[j] = org_seq[0, idx[:], len_idx_1:len_idx_2]\n",
        "\n",
        "\n",
        "    test_seq = tf.expand_dims(batch_seq.astype(np.float32), axis=-1)\n",
        "    # print(\"last batch size = \", last_batch_size)\n",
        "    # print(\"batch_seq shape = \", batch_seq.shape)\n",
        "    # print(\"test_seq shape = \", test_seq.shape)\n",
        "    predicted = dl_model.predict(x=test_seq)\n",
        "\n",
        "    for j in range(0, len(batch_seq)):\n",
        "        dl_predict[iters*50000+j,:] += predicted[j,:]\n",
        "    #dl_predict[iters*50000:iters*50000+len(batch_seq),:] += predicted[:,:]\n",
        "\n",
        "\n",
        "def fill_dl_predict_each_slide_window_2(len_idx_1, len_idx_2):\n",
        "    start_pos = 0\n",
        "    iters = len(comb_of_id) // 50000\n",
        "    for i in range(0, iters):\n",
        "        batch_seq = np.zeros((50000, 4, 240))\n",
        "        for j in range(0, len(batch_seq)):\n",
        "            idx = np.array(comb_of_id[i*50000+j])\n",
        "            batch_seq[j] = org_seq[0, idx[:], len_idx_1:len_idx_2]\n",
        "        test_seq = tf.expand_dims(batch_seq.astype(np.float32), axis=-1)\n",
        "        predicted = dl_model.predict(x=test_seq)\n",
        "\n",
        "        for j in range(0, len(batch_seq)):\n",
        "            dl_predict[i*50000+j,:] += predicted[j,:]\n",
        "        #dl_predict[i*50000:i*50000+len(batch_seq),:] += predicted[:,:]\n",
        "\n",
        "        start_pos += 50000\n",
        "\n",
        "    last_batch_size = len(comb_of_id) % 50000\n",
        "    batch_seq = np.zeros((last_batch_size, 4, 240))\n",
        "\n",
        "    for j in range(0, len(batch_seq)):\n",
        "        idx = np.array(comb_of_id[iters*50000+j])\n",
        "        batch_seq[j] = org_seq[0, idx[:], len_idx_1:len_idx_2]\n",
        "    test_seq = tf.expand_dims(batch_seq.astype(np.float32), axis=-1)\n",
        "\n",
        "    # print(\"last batch size = \", last_batch_size)\n",
        "    # print(\"batch_seq shape = \", batch_seq.shape)\n",
        "    # print(\"test_seq shape = \", test_seq.shape)\n",
        "\n",
        "\n",
        "    predicted = dl_model.predict(x=test_seq)\n",
        "    for j in range(0, len(batch_seq)):\n",
        "        dl_predict[iters*50000+j,:] += predicted[j,:]\n",
        "    #dl_predict[iters*50000:iters*50000+len(batch_seq),:] += predicted[:,:]\n",
        "\n",
        "def custom_train(len_idx_1, len_idx_2, y_true_one_hot):\n",
        "    start_pos = 0\n",
        "    iters = len(comb_of_id) // 50000\n",
        "    for i in range(0, iters):\n",
        "        batch_seq = np.zeros((50000, 4, 240))\n",
        "        for j in range(0, len(batch_seq)):\n",
        "            idx = np.array(comb_of_id[i*50000+j])\n",
        "            batch_seq[j] = org_seq[0, idx[:], len_idx_1:len_idx_2]\n",
        "        test_seq = tf.expand_dims(batch_seq.astype(np.float32), axis=-1)\n",
        "        predicted = dl_model.predict(x=test_seq)\n",
        "\n",
        "        for j in range(0, len(batch_seq)):\n",
        "            dl_predict[i*50000+j,:] += predicted[j,:]\n",
        "        #dl_predict[i*50000:i*50000+len(batch_seq),:] += predicted[:,:]\n",
        "\n",
        "        start_pos += 50000\n",
        "\n",
        "    last_batch_size = len(comb_of_id) % 50000\n",
        "    batch_seq = np.zeros((last_batch_size, 4, 240))\n",
        "\n",
        "    for j in range(0, len(batch_seq)):\n",
        "        idx = np.array(comb_of_id[iters*50000+j])\n",
        "        batch_seq[j] = org_seq[0, idx[:], len_idx_1:len_idx_2]\n",
        "    test_seq = tf.expand_dims(batch_seq.astype(np.float32), axis=-1)\n",
        "\n",
        "\n",
        "    #train\n",
        "    with tf.GradientTape() as tape:\n",
        "        logits = dl_model(test_seq, training=True)\n",
        "        loss = tf.keras.losses.categorical_crossentropy(y_true_one_hot, logits)\n",
        "        loss_list.append(loss)\n",
        "        print(\"loss: \", loss)\n",
        "    grads = tape.gradient(loss, dl_model.trainable_variables)\n",
        "    optimizer.apply_gradients(zip(grads, dl_model.trainable_variables))\n",
        "\n",
        "    predicted = dl_model.predict(x=test_seq)\n",
        "\n",
        "    for j in range(0, len(batch_seq)):\n",
        "        dl_predict[iters*50000+j,:] += predicted[j,:]\n",
        "    #dl_predict[iters*50000:iters*50000+len(batch_seq),:] += predicted[:,:]\n",
        "\n",
        "def custom_train_2(len_idx_1, len_idx_2, y_true_one_hot):\n",
        "    start_pos = 0\n",
        "    iters = len(comb_of_id) // 50000\n",
        "    for i in range(0, iters):\n",
        "        batch_seq = np.zeros((50000, 4, 240))\n",
        "        for j in range(0, len(batch_seq)):\n",
        "            idx = np.array(comb_of_id[i*50000+j])\n",
        "            batch_seq[j] = org_seq[0, idx[:], len_idx_1:len_idx_2]\n",
        "        test_seq = tf.expand_dims(batch_seq.astype(np.float32), axis=-1)\n",
        "        predicted = dl_model.predict(x=test_seq)\n",
        "\n",
        "        X_train_ext.append(test_seq)\n",
        "        y_train_ext.append(y_true_one_hot)\n",
        "\n",
        "        for j in range(0, len(batch_seq)):\n",
        "            dl_predict[i*50000+j,:] += predicted[j,:]\n",
        "        #dl_predict[i*50000:i*50000+len(batch_seq),:] += predicted[:,:]\n",
        "\n",
        "        start_pos += 50000\n",
        "\n",
        "    last_batch_size = len(comb_of_id) % 50000\n",
        "    batch_seq = np.zeros((last_batch_size, 4, 240))\n",
        "\n",
        "    for j in range(0, len(batch_seq)):\n",
        "        idx = np.array(comb_of_id[iters*50000+j])\n",
        "        batch_seq[j] = org_seq[0, idx[:], len_idx_1:len_idx_2]\n",
        "    test_seq = tf.expand_dims(batch_seq.astype(np.float32), axis=-1)\n",
        "    predicted = dl_model.predict(x=test_seq)\n",
        "\n",
        "    X_train_ext.append(test_seq)\n",
        "    y_train_ext.append(y_true_one_hot)\n",
        "\n",
        "    for j in range(0, len(batch_seq)):\n",
        "        dl_predict[iters*50000+j,:] += predicted[j,:]\n",
        "    #dl_predict[iters*50000:iters*50000+len(batch_seq),:] += predicted[:,:]\n",
        "\n",
        "\n",
        "def fill_dl_predict(window_number):\n",
        "    step = (len_of_msa - 1200) // window_number\n",
        "    start_idx = 0\n",
        "    for i in range(0, window_number):\n",
        "        end_idx = start_idx + 1200\n",
        "        fill_dl_predict_each_slide_window(start_idx, end_idx)\n",
        "        start_idx += step\n",
        "\n",
        "\n",
        "def fill_dl_predict_2(window_number):\n",
        "    if len_of_msa > 240:\n",
        "        step = (len_of_msa - 240) // window_number\n",
        "        start_idx = 0\n",
        "        for i in range(0, window_number):\n",
        "            end_idx = start_idx + 240\n",
        "            fill_dl_predict_each_slide_window_2(start_idx, end_idx)\n",
        "            start_idx += step\n",
        "    else:\n",
        "        step = (250 - 240) // window_number\n",
        "        start_idx = 0\n",
        "        for i in range(0, window_number):\n",
        "            end_idx = start_idx + 240\n",
        "            fill_dl_predict_each_slide_window_2(start_idx, end_idx)\n",
        "            start_idx += step\n",
        "\n",
        "def fill_dl_predict_3(window_number, y_train_one_hot):\n",
        "    if len_of_msa > 240:\n",
        "        step = (len_of_msa - 240) // window_number\n",
        "        start_idx = 0\n",
        "        for i in range(0, window_number):\n",
        "            end_idx = start_idx + 240\n",
        "            custom_train_2(start_idx, end_idx, y_train_one_hot)\n",
        "            start_idx += step\n",
        "    else:\n",
        "        step = (250 - 240) // window_number\n",
        "        start_idx = 0\n",
        "        for i in range(0, window_number):\n",
        "            end_idx = start_idx + 240\n",
        "            custom_train_2(start_idx, end_idx, y_train_one_hot)\n",
        "            start_idx += step\n",
        "\n",
        "\n",
        "def fill_dl_predict_4(window_number, y_train_one_hot):\n",
        "    # if len_of_msa > 240:\n",
        "    #     step = (len_of_msa - 240) // window_number\n",
        "    #     start_idx = 0\n",
        "    #     for i in range(0, window_number):\n",
        "    #         end_idx = start_idx + 240\n",
        "    #         custom_train_2(start_idx, end_idx, y_train_one_hot)\n",
        "    #         start_idx += step\n",
        "    # else:\n",
        "    #     step = (250 - 240) // window_number\n",
        "    #     start_idx = 0\n",
        "    #     for i in range(0, window_number):\n",
        "    #         end_idx = start_idx + 240\n",
        "    #         custom_train(start_idx, end_idx, y_train_one_hot)\n",
        "    #         start_idx += step\n",
        "    step = (len_of_msa - 1200) // window_number\n",
        "    start_idx = 0\n",
        "    for i in range(0, window_number):\n",
        "        end_idx = start_idx + 1200\n",
        "        fill_dl_predict_each_slide_window(start_idx, end_idx)\n",
        "        start_idx += step"
      ]
    },
    {
      "cell_type": "markdown",
      "metadata": {
        "id": "BtnE8JW9yMh_"
      },
      "source": [
        "### Main Function"
      ]
    },
    {
      "cell_type": "code",
      "execution_count": null,
      "metadata": {
        "colab": {
          "base_uri": "https://localhost:8080/"
        },
        "id": "34IJqGCfx86M",
        "outputId": "59627625-5472-43a4-92ec-a9e937d45724"
      },
      "outputs": [
        {
          "output_type": "stream",
          "name": "stdout",
          "text": [
            "length of msa:  977\n",
            "taxa name:  {0: 'A1B2C1D1', 1: 'A1B2C1D2', 2: 'A1B2C2D1', 3: 'A1B2C2D2', 4: 'A1B1C1D1', 5: 'A1B1C1D2', 6: 'A1B1C2D1', 7: 'A1B1C2D2'}\n",
            "taxa num:  8\n",
            "70\n",
            "org_seq type is: <class 'numpy.ndarray'>  len is: 1\n",
            "[[[0 2 3 ... 4 4 4]\n",
            "  [0 2 3 ... 4 4 4]\n",
            "  [0 2 3 ... 4 4 4]\n",
            "  ...\n",
            "  [0 2 3 ... 4 4 4]\n",
            "  [0 2 3 ... 4 4 4]\n",
            "  [0 2 3 ... 4 4 4]]]\n",
            "3/3 [==============================] - 1s 276ms/step\n",
            "3/3 [==============================] - 0s 28ms/step\n",
            "3/3 [==============================] - 0s 32ms/step\n",
            "3/3 [==============================] - 0s 30ms/step\n",
            "3/3 [==============================] - 0s 30ms/step\n"
          ]
        }
      ],
      "source": [
        "# parser = argparse.ArgumentParser('get_msa_dir')\n",
        "# p_input = parser.add_argument_group(\"INPUT\")\n",
        "# p_input.add_argument(\"--msa_dir\", action=\"store\", type=str, required=True)\n",
        "# p_input.add_argument(\"--save_prefix\", action=\"store\", type=str, required=True)\n",
        "# p_input.add_argument(\"--beam_size\", action=\"store\", type=str, default='1', required=False)\n",
        "# p_input.add_argument(\"--sequence_type\", action=\"store\", type=str, default='standard', required=False)\n",
        "# p_input.add_argument(\"--branch_model\", action=\"store\", type=str, default='gamma', required=False)\n",
        "# p_input.add_argument(\"--window_coverage\", action=\"store\", type=str, default='1', required=False)\n",
        "\n",
        "msa_dir = \"/content/drive/MyDrive/ML project/Fusang/source_code/example_msa/trunc.fas\"\n",
        "save_prefix = \"dl_output_2\"\n",
        "beam_size = '1'\n",
        "sequence_type = 'standard'\n",
        "branch_model = 'gamma'\n",
        "window_coverage = '1'\n",
        "\n",
        "#msa_dir =\n",
        "#prefix =\n",
        "#beam_size =\n",
        "#sequence_type =\n",
        "#branch_model =\n",
        "#window_coverage =\n",
        "\n",
        "# args = parser.parse_args()\n",
        "# msa_dir = args.msa_dir\n",
        "# save_prefix = args.save_prefix\n",
        "# beam_size = args.beam_size\n",
        "# sequence_type = args.sequence_type\n",
        "# branch_model = args.branch_model\n",
        "# window_coverage = args.window_coverage\n",
        "\n",
        "flag = 0\n",
        "support_format = ['.fas', '.phy', '.fasta', 'phylip']\n",
        "bio_format = ['fasta', 'phylip', 'fasta', 'phylip']\n",
        "\n",
        "taxa_name = {}\n",
        "len_of_msa = 0\n",
        "texa_num = 0\n",
        "\n",
        "for i in range(0, len(support_format)):\n",
        "    ele = support_format[i]\n",
        "    if msa_dir.endswith(ele):\n",
        "        flag = 1\n",
        "        try:\n",
        "            alignment = AlignIO.read(open(msa_dir), bio_format[i])\n",
        "\n",
        "            len_of_msa = len(alignment[0].seq)\n",
        "\n",
        "\n",
        "            taxa_num = len(alignment)\n",
        "\n",
        "\n",
        "            save_alignment = save_prefix + '_fusang.fas'\n",
        "            with open(save_alignment,'w') as f:\n",
        "                for record in alignment:\n",
        "                    taxa_name[len(taxa_name)] = record.id\n",
        "                    f.write('>'+str(len(taxa_name)-1)+'\\n')\n",
        "                    f.write(str(record.seq)+'\\n')\n",
        "        except:\n",
        "            print('Something wrong about your msa file, please check your msa file')\n",
        "        break\n",
        "\n",
        "\n",
        "\n",
        "print(f\"length of msa: \", len_of_msa)\n",
        "print(f\"taxa name: \", taxa_name)\n",
        "print(f\"taxa num: \", taxa_num)\n",
        "\n",
        "\n",
        "if flag == 0:\n",
        "    print('we do not support this format of msa')\n",
        "    sys.exit(1)\n",
        "\n",
        "#logging.warning(taxa_num)\n",
        "\n",
        "start_end_list = [None, None, None]\n",
        "\n",
        "end = -1\n",
        "for i in range(3, 100):\n",
        "    start = end + 1\n",
        "    end = start + int(comb_math(i,3)) - 1\n",
        "    start_end_list.append((start,end))\n",
        "\n",
        "id_for_taxa = [i for i in range(0, taxa_num)]\n",
        "comb_of_id = list(combinations(id_for_taxa, 4))\n",
        "comb_of_id.sort(key=lambda ele: ele[-1])\n",
        "print(len(comb_of_id))\n",
        "\n",
        "\n",
        "\n",
        "leave_node_id = [i for i in range(0, taxa_num)]\n",
        "leave_node_name = [chr(ord(u'\\u4e00')+i) for i in range(0, taxa_num)]\n",
        "leave_node_comb_id = comb_of_id\n",
        "\n",
        "leave_node_comb_name = []\n",
        "\n",
        "dic_for_leave_node_comb_name = {}\n",
        "\n",
        "for ele in leave_node_comb_id:\n",
        "    term = [chr(ord(u'\\u4e00')+id) for id in ele]\n",
        "    dic_for_leave_node_comb_name[\"\".join(term)] = len(dic_for_leave_node_comb_name)\n",
        "    leave_node_comb_name.append(\"\".join(term))\n",
        "\n",
        "internal_node_name_pool = ['internal_node_' + str(i) for i in range(3, 3000)]\n",
        "\n",
        "fusang_msa_dir = save_prefix + '_fusang.fas'\n",
        "org_seq = get_numpy(fusang_msa_dir)\n",
        "os.remove(fusang_msa_dir)\n",
        "\n",
        "print(\"org_seq type is:\", type(org_seq), \" len is:\", len(org_seq))\n",
        "print(org_seq)\n",
        "\n",
        "window_number = 1\n",
        "\n",
        "\n",
        "\n",
        "# if len_of_msa <= 1210:\n",
        "#     dl_model = get_dl_model_240()\n",
        "#     if sequence_type == 'standard' and branch_model == 'gamma':\n",
        "#         dl_model.load_weights(filepath='./dl_model/len_240/S1G/best_weights_clas').expect_partial()\n",
        "#     if sequence_type == 'standard' and branch_model == 'uniform':\n",
        "#         dl_model.load_weights(filepath='./dl_model/len_240/S1U/best_weights_clas').expect_partial()\n",
        "#     if sequence_type == 'coding' and branch_model == 'gamma':\n",
        "#         dl_model.load_weights(filepath='./dl_model/len_240/C1G/best_weights_clas').expect_partial()\n",
        "#     if sequence_type == 'coding' and branch_model == 'uniform':\n",
        "#         dl_model.load_weights(filepath='./dl_model/len_240/C1U/best_weights_clas').expect_partial()\n",
        "#     if sequence_type == 'noncoding' and branch_model == 'gamma':\n",
        "#         dl_model.load_weights(filepath='./dl_model/len_240/N1G/best_weights_clas').expect_partial()\n",
        "#     if sequence_type == 'noncoding' and branch_model == 'uniform':\n",
        "#         dl_model.load_weights(filepath='./dl_model/len_240/N1U/best_weights_clas').expect_partial()\n",
        "\n",
        "root_path = '/content/drive/MyDrive/ML project/Fusang/source_code/'\n",
        "\n",
        "if len_of_msa <= 1210:\n",
        "    dl_model = get_dl_model_240()\n",
        "    if sequence_type == 'standard' and branch_model == 'gamma':\n",
        "        dl_model.load_weights(filepath= root_path + 'dl_model/len_240/S1G/best_weights_clas').expect_partial()\n",
        "    if sequence_type == 'standard' and branch_model == 'uniform':\n",
        "        dl_model.load_weights(filepath= root_path + 'dl_model/len_240/S1U/best_weights_clas').expect_partial()\n",
        "    if sequence_type == 'coding' and branch_model == 'gamma':\n",
        "        dl_model.load_weights(filepath= root_path + 'dl_model/len_240/C1G/best_weights_clas').expect_partial()\n",
        "    if sequence_type == 'coding' and branch_model == 'uniform':\n",
        "        dl_model.load_weights(filepath= root_path + 'dl_model/len_240/C1U/best_weights_clas').expect_partial()\n",
        "    if sequence_type == 'noncoding' and branch_model == 'gamma':\n",
        "        dl_model.load_weights(filepath= root_path + 'dl_model/len_240/N1G/best_weights_clas').expect_partial()\n",
        "    if sequence_type == 'noncoding' and branch_model == 'uniform':\n",
        "        dl_model.load_weights(filepath= root_path + 'dl_model/len_240/N1U/best_weights_clas').expect_partial()\n",
        "\n",
        "    window_number = int(len_of_msa * float(window_coverage) // 240 + 1)\n",
        "\n",
        "elif len_of_msa > 1210:\n",
        "    dl_model = get_dl_model_1200()\n",
        "    if sequence_type == 'standard' and branch_model == 'gamma':\n",
        "        dl_model.load_weights(filepath= root_path + 'dl_model/len_1200/S2G/best_weights_clas').expect_partial()\n",
        "    if sequence_type == 'standard' and branch_model == 'uniform':\n",
        "        dl_model.load_weights(filepath= root_path + 'dl_model/len_1200/S2U/best_weights_clas').expect_partial()\n",
        "    if sequence_type == 'coding' and branch_model == 'gamma':\n",
        "        dl_model.load_weights(filepath= root_path + 'dl_model/len_1200/C2G/best_weights_clas').expect_partial()\n",
        "    if sequence_type == 'coding' and branch_model == 'uniform':\n",
        "        dl_model.load_weights(filepath= root_path + 'dl_model/len_1200/C2U/best_weights_clas').expect_partial()\n",
        "    if sequence_type == 'noncoding' and branch_model == 'gamma':\n",
        "        dl_model.load_weights(filepath= root_path + 'dl_model/len_1200/N2G/best_weights_clas').expect_partial()\n",
        "    if sequence_type == 'noncoding' and branch_model == 'uniform':\n",
        "        dl_model.load_weights(filepath= root_path + 'dl_model/len_1200/N2U/best_weights_clas').expect_partial()\n",
        "\n",
        "    window_number = int(len_of_msa * float(window_coverage) // 1200 + 1)\n",
        "\n",
        "\n",
        "dl_predict = np.zeros((len(comb_of_id), 3))\n",
        "\n",
        "if len_of_msa > 1210:\n",
        "    fill_dl_predict(window_number)\n",
        "elif len_of_msa <= 1210:\n",
        "    fill_dl_predict_2(window_number)\n",
        "else:\n",
        "    print('current version of fusang do not support this length of MSA')\n",
        "    sys.exit(1)\n",
        "\n",
        "dl_predict /= window_number\n",
        "\n",
        "#print(dl_predict)\n",
        "\n",
        "#np.save('./dl_predict.npy', dl_predict)\n",
        "#dl_predict = np.load('./dl_predict.npy')\n",
        "\n",
        "if not os.path.exists('./dl_output/'):\n",
        "    os.mkdir('./dl_output/')\n",
        "\n",
        "if taxa_num > 10:\n",
        "    searched_tree = transform_str(gen_phylogenetic_tree_2(dl_predict, int(beam_size)), taxa_name)\n",
        "else:\n",
        "    searched_tree = transform_str(gen_phylogenetic_tree(dl_predict, int(beam_size)), taxa_name)\n",
        "\n",
        "build_log = open('./dl_output/{}.txt'.format(save_prefix), 'a')\n",
        "build_log.write(searched_tree)\n",
        "build_log.close()"
      ]
    },
    {
      "cell_type": "markdown",
      "metadata": {
        "id": "kvONNZV7Vz4A"
      },
      "source": [
        "### Training_attempt_1"
      ]
    },
    {
      "cell_type": "code",
      "execution_count": null,
      "metadata": {
        "id": "asV7JQNRHb26"
      },
      "outputs": [],
      "source": [
        "def load_data(seq_dir, label_dir):\n",
        "    seq_files = sorted(os.listdir(seq_dir))\n",
        "    label_files = sorted(os.listdir(label_dir))\n",
        "    seq_data = []\n",
        "    label_data = []\n",
        "    for seq_file, label_file in zip(seq_files, label_files):\n",
        "        seq_path = os.path.join(seq_dir, seq_file)\n",
        "        label_path = os.path.join(label_dir, label_file)\n",
        "        seq = np.load(seq_path)\n",
        "        label = np.load(label_path)\n",
        "        seq_data.append(seq)\n",
        "        label_data.append(label)\n",
        "    return np.array(seq_data), np.array(label_data)"
      ]
    },
    {
      "cell_type": "code",
      "execution_count": null,
      "metadata": {
        "id": "MtgBvx4-Hfkd"
      },
      "outputs": [],
      "source": [
        "# seq_dir = \"/content/drive/MyDrive/ML project/Fusang/source_code/Train_data/numpy_file/seq/\"\n",
        "# label_dir = \"/content/drive/MyDrive/ML project/Fusang/source_code/Train_data/numpy_file/label/\"\n",
        "# +\n",
        "seq_dir = \"/content/drive/MyDrive/ML project/Fusang/source_code/Train_data/test_data/numpy_file/seq/\"\n",
        "label_dir = \"/content/drive/MyDrive/ML project/Fusang/source_code/Train_data/test_data/numpy_file/label/\"\n",
        "\n",
        "fast_dir = \"/content/drive/MyDrive/ML project/Fusang/source_code/Train_data/fasta_file/t_sim2_TRUE.fas\"\n",
        "\n",
        "X_array_dir = \"/content/drive/MyDrive/ML project/Fusang/source_code/Train_data/data2/X_array.npy\"\n",
        "y_array_dir = \"/content/drive/MyDrive/ML project/Fusang/source_code/Train_data/data2/y_array.npy\"\n",
        "\n",
        "\n",
        "X_test_dir = \"/content/drive/MyDrive/ML project/Fusang/source_code/Train_data/test_data/X_array_test.npy\"\n",
        "y_test_dir = \"/content/drive/MyDrive/ML project/Fusang/source_code/Train_data/test_data/y_array_test.npy\""
      ]
    },
    {
      "cell_type": "code",
      "source": [
        "X_array_dir = \"/content/drive/MyDrive/ML project/Fusang/source_code/Train_data/msa_240/X_train.npy\"\n",
        "y_array_dir = \"/content/drive/MyDrive/ML project/Fusang/source_code/Train_data/msa_240/y_train.npy\"\n",
        "\n",
        "\n",
        "X_test_dir = \"/content/drive/MyDrive/ML project/Fusang/source_code/Train_data/msa_240/X_test.npy\"\n",
        "y_test_dir = \"/content/drive/MyDrive/ML project/Fusang/source_code/Train_data/msa_240/y_test.npy\""
      ],
      "metadata": {
        "id": "U1caEz1fMm0e"
      },
      "execution_count": null,
      "outputs": []
    },
    {
      "cell_type": "code",
      "source": [
        "X_array_test = np.load(X_test_dir)\n",
        "print(X_array_test.shape)\n",
        "y_array_test = np.load(y_test_dir)\n",
        "print(y_array_test.shape)"
      ],
      "metadata": {
        "id": "BeGZk0kBRqbF",
        "colab": {
          "base_uri": "https://localhost:8080/"
        },
        "outputId": "455c0213-6499-4a6e-af18-3c3eb9818ee3"
      },
      "execution_count": null,
      "outputs": [
        {
          "output_type": "stream",
          "name": "stdout",
          "text": [
            "(2000, 4, 240, 1)\n",
            "(2000, 3)\n"
          ]
        }
      ]
    },
    {
      "cell_type": "code",
      "source": [
        "X_train = np.load(X_array_dir)\n",
        "print(X_train.shape)\n",
        "y_train = np.load(y_array_dir)\n",
        "print(y_train.shape)"
      ],
      "metadata": {
        "colab": {
          "base_uri": "https://localhost:8080/"
        },
        "id": "6lWSrDWJwfbd",
        "outputId": "0b1f2a39-f9f4-4c9a-c54e-ec62ed2fb775"
      },
      "execution_count": null,
      "outputs": [
        {
          "output_type": "stream",
          "name": "stdout",
          "text": [
            "(10000, 4, 240, 1)\n",
            "(10000, 3)\n"
          ]
        }
      ]
    },
    {
      "cell_type": "code",
      "execution_count": null,
      "metadata": {
        "id": "wOo6yqNjs9NF"
      },
      "outputs": [],
      "source": [
        "X_train, y_train = load_data(seq_dir, label_dir)"
      ]
    },
    {
      "cell_type": "code",
      "source": [
        "print(X_train.shape)\n",
        "print(y_train.shape)"
      ],
      "metadata": {
        "colab": {
          "base_uri": "https://localhost:8080/"
        },
        "id": "Omc8Zovz5cpJ",
        "outputId": "caf0879f-58b4-4e5f-e2b9-86b815798d3f"
      },
      "execution_count": null,
      "outputs": [
        {
          "output_type": "stream",
          "name": "stdout",
          "text": [
            "(10000, 4, 240, 1)\n",
            "(10000, 3)\n"
          ]
        }
      ]
    },
    {
      "cell_type": "code",
      "execution_count": null,
      "metadata": {
        "id": "AIV8VEHKI3R_",
        "colab": {
          "base_uri": "https://localhost:8080/"
        },
        "outputId": "1ef11582-b743-41d0-cd9b-b36e1740a2e4"
      },
      "outputs": [
        {
          "output_type": "execute_result",
          "data": {
            "text/plain": [
              "414"
            ]
          },
          "metadata": {},
          "execution_count": 39
        }
      ],
      "source": [
        "cust_model = get_resnext_dl_model_240()\n",
        "cust_model.compile(optimizer='adam', loss='categorical_crossentropy', metrics=['accuracy'])\n",
        "len(cust_model.trainable_variables)"
      ]
    },
    {
      "cell_type": "code",
      "execution_count": null,
      "metadata": {
        "id": "wDlnxXxOQFkN",
        "colab": {
          "base_uri": "https://localhost:8080/"
        },
        "outputId": "af141e27-4afa-4d05-8ded-529c90e03744"
      },
      "outputs": [
        {
          "output_type": "stream",
          "name": "stdout",
          "text": [
            "11111\n",
            "(None, 1, 120, 1024)\n",
            "(None, 1, 120, 32)\n",
            "t  (None, 1, 30, 128)\n",
            "x1  (None, 1, 30, 128)\n",
            "(None, 1, 30, 4)\n",
            "t  (None, 1, 7, 128)\n",
            "x1  (None, 1, 7, 128)\n",
            "(None, 1, 7, 4)\n",
            "t  (None, 1, 1, 128)\n",
            "x1  (None, 1, 1, 128)\n"
          ]
        },
        {
          "output_type": "execute_result",
          "data": {
            "text/plain": [
              "806"
            ]
          },
          "metadata": {},
          "execution_count": 51
        }
      ],
      "source": [
        "#dl_model = get_dl_model_240()\n",
        "dl_model = get_resnext_dl_model_240()\n",
        "dl_model.compile(optimizer='adam', loss='categorical_crossentropy', metrics=['accuracy'])\n",
        "window_number = int(1000 * float(window_coverage) // 240 + 1)\n",
        "len(dl_model.trainable_variables)"
      ]
    },
    {
      "cell_type": "code",
      "execution_count": null,
      "metadata": {
        "id": "rAvI0ojWQQLz"
      },
      "outputs": [],
      "source": [
        "epochs = 1\n",
        "len_of_msa = 1000\n",
        "taxa_num = 4\n",
        "save_prefix = \"dl_output_2\"\n",
        "beam_size = '1'\n",
        "sequence_type = 'standard'\n",
        "branch_model = 'gamma'\n",
        "window_coverage = '1'\n",
        "taxa_name = {0: '0', 1: '1', 2: '2', 3: '3'}\n",
        "loss_list = []\n",
        "X_train_ext = []\n",
        "y_train_ext = []\n",
        "\n",
        "\n",
        "optimizer = tf.keras.optimizers.Adam(learning_rate=0.001)\n",
        "\n",
        "for epoch in tqdm(range(epochs)):\n",
        "    print(f\"Epoch {epoch+1}/{epochs}\")\n",
        "\n",
        "    for i in tqdm(range(len(X_train))):\n",
        "      id_for_taxa = [i for i in range(0, taxa_num)]\n",
        "      comb_of_id = list(combinations(id_for_taxa, 4))\n",
        "      comb_of_id.sort(key=lambda ele: ele[-1])\n",
        "\n",
        "      leave_node_id = [i for i in range(0, taxa_num)]\n",
        "      leave_node_name = [chr(ord(u'\\u4e00')+i) for i in range(0, taxa_num)]\n",
        "      leave_node_comb_id = comb_of_id\n",
        "      leave_node_comb_name = []\n",
        "      dic_for_leave_node_comb_name = {}\n",
        "\n",
        "      for ele in leave_node_comb_id:\n",
        "          term = [chr(ord(u'\\u4e00')+id) for id in ele]\n",
        "          dic_for_leave_node_comb_name[\"\".join(term)] = len(dic_for_leave_node_comb_name)\n",
        "          leave_node_comb_name.append(\"\".join(term))\n",
        "\n",
        "      internal_node_name_pool = ['internal_node_' + str(i) for i in range(3, 3000)]\n",
        "\n",
        "      org_seq = X_train[i]\n",
        "      y_train_one_hot = tf.one_hot(y_train[i], depth=3)\n",
        "      y_train_one_hot = tf.reshape(y_train_one_hot, (1, 3))\n",
        "\n",
        "      dl_predict = np.zeros((len(comb_of_id), 3))\n",
        "\n",
        "      if len_of_msa > 1210:\n",
        "        fill_dl_predict(window_number)\n",
        "      elif len_of_msa <= 1210:\n",
        "          fill_dl_predict_3(window_number, y_train_one_hot)\n",
        "      else:\n",
        "          print('current version of fusang do not support this length of MSA')\n",
        "          sys.exit(1)\n",
        "\n",
        "      dl_predict /= window_number\n",
        "\n",
        "\n",
        "      # Backpropagation\n",
        "      #print(dl_predict.shape)\n",
        "\n",
        "\n",
        "X_array_test = np.concatenate(X_train_ext, axis=0)\n",
        "y_array_test = np.concatenate(y_train_ext, axis=0)\n",
        "print(\"Training finished\")"
      ]
    },
    {
      "cell_type": "code",
      "source": [
        "X_array_test.shape"
      ],
      "metadata": {
        "colab": {
          "base_uri": "https://localhost:8080/"
        },
        "id": "BlB4ybn-Va0x",
        "outputId": "02440ec2-23a8-4583-feea-23a2aded1b7d"
      },
      "execution_count": null,
      "outputs": [
        {
          "output_type": "execute_result",
          "data": {
            "text/plain": [
              "(2000, 4, 240, 1)"
            ]
          },
          "metadata": {},
          "execution_count": 25
        }
      ]
    },
    {
      "cell_type": "code",
      "source": [
        "# Convert the Python list to a NumPy array\n",
        "# X_array = np.array(X_train_ext)\n",
        "# y_array = np.array(y_train_ext)\n",
        "\n",
        "# Save the NumPy array to a file\n",
        "np.save('X_array_test.npy', X_array_test)\n",
        "np.save('y_array_test.npy', y_array_test)"
      ],
      "metadata": {
        "id": "wcXMdeOCj-p3"
      },
      "execution_count": null,
      "outputs": []
    },
    {
      "cell_type": "code",
      "source": [
        "weights_path = \"/content/drive/MyDrive/ML project/Fusang/source_code/dl_model/dl_model_weights_1.h5\""
      ],
      "metadata": {
        "id": "K-tRsAoMC-hV"
      },
      "execution_count": null,
      "outputs": []
    },
    {
      "cell_type": "code",
      "source": [
        "dl_model = get_dl_model_240()\n",
        "#dl_model.load_weights(weights_path)\n",
        "dl_model.compile(optimizer='adam', loss='categorical_crossentropy', metrics=['accuracy'])"
      ],
      "metadata": {
        "id": "iCPQYzRld66Q"
      },
      "execution_count": null,
      "outputs": []
    },
    {
      "cell_type": "code",
      "source": [
        "dl_model = get_resnext_dl_model_240()\n",
        "#dl_model.load_weights(weights_path)\n",
        "dl_model.compile(optimizer='adam', loss='categorical_crossentropy', metrics=['accuracy'])"
      ],
      "metadata": {
        "colab": {
          "base_uri": "https://localhost:8080/"
        },
        "id": "cAf88tqxoGnt",
        "outputId": "2cf30f3c-096f-4744-b88b-3003a16a7c6b"
      },
      "execution_count": null,
      "outputs": [
        {
          "output_type": "stream",
          "name": "stdout",
          "text": [
            "11111\n",
            "(None, 1, 120, 1024)\n",
            "(None, 1, 120, 32)\n",
            "t  (None, 1, 30, 128)\n",
            "x1  (None, 1, 30, 128)\n",
            "(None, 1, 30, 4)\n",
            "t  (None, 1, 7, 128)\n",
            "x1  (None, 1, 7, 128)\n",
            "(None, 1, 7, 4)\n",
            "t  (None, 1, 1, 128)\n",
            "x1  (None, 1, 1, 128)\n"
          ]
        }
      ]
    },
    {
      "cell_type": "code",
      "source": [
        "print(X_train[4])"
      ],
      "metadata": {
        "id": "rTYYS45bx53K"
      },
      "execution_count": null,
      "outputs": []
    },
    {
      "cell_type": "code",
      "source": [
        "#history = dl_model.fit(X_train, y_train, validation_split=0.2 , batch_size=32, epochs=40, verbose=1, shuffle=True)\n",
        "history = dl_model.fit(X_train, y_train, validation_split=0.2 , batch_size=64, epochs=40, verbose=1, shuffle=True)"
      ],
      "metadata": {
        "colab": {
          "base_uri": "https://localhost:8080/"
        },
        "id": "PAYPymQxw_35",
        "outputId": "aacdbe4c-e81c-4855-c16e-830c7480c447"
      },
      "execution_count": null,
      "outputs": [
        {
          "output_type": "stream",
          "name": "stdout",
          "text": [
            "Epoch 1/40\n",
            "125/125 [==============================] - 212s 303ms/step - loss: 1.1065 - accuracy: 0.3304 - val_loss: 1.0985 - val_accuracy: 0.3450\n",
            "Epoch 2/40\n",
            "125/125 [==============================] - 32s 252ms/step - loss: 1.0987 - accuracy: 0.3314 - val_loss: 1.0986 - val_accuracy: 0.3450\n",
            "Epoch 3/40\n",
            "125/125 [==============================] - 33s 263ms/step - loss: 1.0986 - accuracy: 0.3338 - val_loss: 1.0986 - val_accuracy: 0.3450\n",
            "Epoch 4/40\n",
            "125/125 [==============================] - 32s 254ms/step - loss: 1.0987 - accuracy: 0.3372 - val_loss: 1.0985 - val_accuracy: 0.3450\n",
            "Epoch 5/40\n",
            "125/125 [==============================] - 31s 247ms/step - loss: 1.0986 - accuracy: 0.3375 - val_loss: 1.0986 - val_accuracy: 0.3450\n",
            "Epoch 6/40\n",
            "125/125 [==============================] - 31s 249ms/step - loss: 1.0986 - accuracy: 0.3375 - val_loss: 1.0987 - val_accuracy: 0.3450\n",
            "Epoch 7/40\n",
            "125/125 [==============================] - 32s 253ms/step - loss: 1.0987 - accuracy: 0.3375 - val_loss: 1.0986 - val_accuracy: 0.3450\n",
            "Epoch 8/40\n",
            "125/125 [==============================] - 31s 250ms/step - loss: 1.0986 - accuracy: 0.3375 - val_loss: 1.0987 - val_accuracy: 0.3450\n",
            "Epoch 9/40\n",
            "125/125 [==============================] - 32s 253ms/step - loss: 1.0986 - accuracy: 0.3335 - val_loss: 1.0987 - val_accuracy: 0.3450\n",
            "Epoch 10/40\n",
            "125/125 [==============================] - 31s 252ms/step - loss: 1.0986 - accuracy: 0.3375 - val_loss: 1.0986 - val_accuracy: 0.3450\n",
            "Epoch 11/40\n",
            "125/125 [==============================] - 32s 255ms/step - loss: 1.0987 - accuracy: 0.3375 - val_loss: 1.0987 - val_accuracy: 0.3450\n",
            "Epoch 12/40\n",
            "125/125 [==============================] - 31s 249ms/step - loss: 1.0986 - accuracy: 0.3375 - val_loss: 1.0986 - val_accuracy: 0.3450\n",
            "Epoch 13/40\n",
            "125/125 [==============================] - 32s 253ms/step - loss: 1.0986 - accuracy: 0.3375 - val_loss: 1.0987 - val_accuracy: 0.3450\n",
            "Epoch 14/40\n",
            "125/125 [==============================] - 32s 252ms/step - loss: 1.0994 - accuracy: 0.3363 - val_loss: 1.0984 - val_accuracy: 0.3450\n",
            "Epoch 15/40\n",
            "125/125 [==============================] - 31s 251ms/step - loss: 1.0986 - accuracy: 0.3322 - val_loss: 1.0986 - val_accuracy: 0.3450\n",
            "Epoch 16/40\n",
            "125/125 [==============================] - 31s 251ms/step - loss: 1.0986 - accuracy: 0.3375 - val_loss: 1.0986 - val_accuracy: 0.3450\n",
            "Epoch 17/40\n",
            "125/125 [==============================] - 31s 248ms/step - loss: 1.0986 - accuracy: 0.3330 - val_loss: 1.0986 - val_accuracy: 0.3450\n",
            "Epoch 18/40\n",
            "125/125 [==============================] - 32s 255ms/step - loss: 1.0986 - accuracy: 0.3375 - val_loss: 1.0986 - val_accuracy: 0.3450\n",
            "Epoch 19/40\n",
            "125/125 [==============================] - 31s 247ms/step - loss: 1.0986 - accuracy: 0.3375 - val_loss: 1.0987 - val_accuracy: 0.3450\n",
            "Epoch 20/40\n",
            "125/125 [==============================] - 31s 251ms/step - loss: 1.0986 - accuracy: 0.3375 - val_loss: 1.0987 - val_accuracy: 0.3450\n",
            "Epoch 21/40\n",
            "125/125 [==============================] - 31s 249ms/step - loss: 1.0986 - accuracy: 0.3375 - val_loss: 1.0986 - val_accuracy: 0.3450\n",
            "Epoch 22/40\n",
            "125/125 [==============================] - 31s 250ms/step - loss: 1.0986 - accuracy: 0.3364 - val_loss: 1.0988 - val_accuracy: 0.3450\n",
            "Epoch 23/40\n",
            "125/125 [==============================] - 31s 248ms/step - loss: 1.0986 - accuracy: 0.3375 - val_loss: 1.0986 - val_accuracy: 0.3450\n",
            "Epoch 24/40\n",
            "125/125 [==============================] - 31s 246ms/step - loss: 1.0986 - accuracy: 0.3375 - val_loss: 1.0986 - val_accuracy: 0.3450\n",
            "Epoch 25/40\n",
            "125/125 [==============================] - 31s 249ms/step - loss: 1.0987 - accuracy: 0.3375 - val_loss: 1.0987 - val_accuracy: 0.3450\n",
            "Epoch 26/40\n",
            "125/125 [==============================] - 31s 248ms/step - loss: 1.0986 - accuracy: 0.3375 - val_loss: 1.0986 - val_accuracy: 0.3450\n",
            "Epoch 27/40\n",
            "125/125 [==============================] - 31s 251ms/step - loss: 1.0986 - accuracy: 0.3339 - val_loss: 1.0986 - val_accuracy: 0.3450\n",
            "Epoch 28/40\n",
            "125/125 [==============================] - 31s 246ms/step - loss: 1.0986 - accuracy: 0.3375 - val_loss: 1.0985 - val_accuracy: 0.3450\n",
            "Epoch 29/40\n",
            "125/125 [==============================] - 32s 254ms/step - loss: 1.0986 - accuracy: 0.3335 - val_loss: 1.0987 - val_accuracy: 0.3450\n",
            "Epoch 30/40\n",
            "125/125 [==============================] - 31s 246ms/step - loss: 1.0986 - accuracy: 0.3375 - val_loss: 1.0986 - val_accuracy: 0.3450\n",
            "Epoch 31/40\n",
            "125/125 [==============================] - 32s 252ms/step - loss: 1.0986 - accuracy: 0.3375 - val_loss: 1.0987 - val_accuracy: 0.3450\n",
            "Epoch 32/40\n",
            "125/125 [==============================] - 31s 246ms/step - loss: 1.0986 - accuracy: 0.3316 - val_loss: 1.0987 - val_accuracy: 0.3450\n",
            "Epoch 33/40\n",
            "125/125 [==============================] - 34s 269ms/step - loss: 1.0986 - accuracy: 0.3375 - val_loss: 1.0986 - val_accuracy: 0.3450\n",
            "Epoch 34/40\n",
            "122/125 [============================>.] - ETA: 0s - loss: 1.0987 - accuracy: 0.3379"
          ]
        }
      ]
    },
    {
      "cell_type": "code",
      "source": [
        "# Combine loss and metric values from both history objects\n",
        "combined_loss = history.history['loss'] + history2.history['loss']\n",
        "combined_val_loss = history.history['val_loss'] + history2.history['val_loss']\n",
        "combined_accuracy = history.history['accuracy'] + history2.history['accuracy']\n",
        "combined_val_accuracy = history.history['val_accuracy'] + history2.history['val_accuracy']"
      ],
      "metadata": {
        "id": "mGdSDzjRPqFm",
        "colab": {
          "base_uri": "https://localhost:8080/",
          "height": 219
        },
        "outputId": "faeef74a-9233-4b4f-a589-84c9f37c0b4d"
      },
      "execution_count": null,
      "outputs": [
        {
          "output_type": "error",
          "ename": "NameError",
          "evalue": "name 'history' is not defined",
          "traceback": [
            "\u001b[0;31m---------------------------------------------------------------------------\u001b[0m",
            "\u001b[0;31mNameError\u001b[0m                                 Traceback (most recent call last)",
            "\u001b[0;32m<ipython-input-25-611ba930d5ef>\u001b[0m in \u001b[0;36m<cell line: 2>\u001b[0;34m()\u001b[0m\n\u001b[1;32m      1\u001b[0m \u001b[0;31m# Combine loss and metric values from both history objects\u001b[0m\u001b[0;34m\u001b[0m\u001b[0;34m\u001b[0m\u001b[0m\n\u001b[0;32m----> 2\u001b[0;31m \u001b[0mcombined_loss\u001b[0m \u001b[0;34m=\u001b[0m \u001b[0mhistory\u001b[0m\u001b[0;34m.\u001b[0m\u001b[0mhistory\u001b[0m\u001b[0;34m[\u001b[0m\u001b[0;34m'loss'\u001b[0m\u001b[0;34m]\u001b[0m \u001b[0;34m+\u001b[0m \u001b[0mhistory2\u001b[0m\u001b[0;34m.\u001b[0m\u001b[0mhistory\u001b[0m\u001b[0;34m[\u001b[0m\u001b[0;34m'loss'\u001b[0m\u001b[0;34m]\u001b[0m\u001b[0;34m\u001b[0m\u001b[0;34m\u001b[0m\u001b[0m\n\u001b[0m\u001b[1;32m      3\u001b[0m \u001b[0mcombined_val_loss\u001b[0m \u001b[0;34m=\u001b[0m \u001b[0mhistory\u001b[0m\u001b[0;34m.\u001b[0m\u001b[0mhistory\u001b[0m\u001b[0;34m[\u001b[0m\u001b[0;34m'val_loss'\u001b[0m\u001b[0;34m]\u001b[0m \u001b[0;34m+\u001b[0m \u001b[0mhistory2\u001b[0m\u001b[0;34m.\u001b[0m\u001b[0mhistory\u001b[0m\u001b[0;34m[\u001b[0m\u001b[0;34m'val_loss'\u001b[0m\u001b[0;34m]\u001b[0m\u001b[0;34m\u001b[0m\u001b[0;34m\u001b[0m\u001b[0m\n\u001b[1;32m      4\u001b[0m \u001b[0mcombined_accuracy\u001b[0m \u001b[0;34m=\u001b[0m \u001b[0mhistory\u001b[0m\u001b[0;34m.\u001b[0m\u001b[0mhistory\u001b[0m\u001b[0;34m[\u001b[0m\u001b[0;34m'accuracy'\u001b[0m\u001b[0;34m]\u001b[0m \u001b[0;34m+\u001b[0m \u001b[0mhistory2\u001b[0m\u001b[0;34m.\u001b[0m\u001b[0mhistory\u001b[0m\u001b[0;34m[\u001b[0m\u001b[0;34m'accuracy'\u001b[0m\u001b[0;34m]\u001b[0m\u001b[0;34m\u001b[0m\u001b[0;34m\u001b[0m\u001b[0m\n\u001b[1;32m      5\u001b[0m \u001b[0mcombined_val_accuracy\u001b[0m \u001b[0;34m=\u001b[0m \u001b[0mhistory\u001b[0m\u001b[0;34m.\u001b[0m\u001b[0mhistory\u001b[0m\u001b[0;34m[\u001b[0m\u001b[0;34m'val_accuracy'\u001b[0m\u001b[0;34m]\u001b[0m \u001b[0;34m+\u001b[0m \u001b[0mhistory2\u001b[0m\u001b[0;34m.\u001b[0m\u001b[0mhistory\u001b[0m\u001b[0;34m[\u001b[0m\u001b[0;34m'val_accuracy'\u001b[0m\u001b[0;34m]\u001b[0m\u001b[0;34m\u001b[0m\u001b[0;34m\u001b[0m\u001b[0m\n",
            "\u001b[0;31mNameError\u001b[0m: name 'history' is not defined"
          ]
        }
      ]
    },
    {
      "cell_type": "code",
      "source": [
        "threshold = 0.5\n",
        "\n",
        "# Filter loss values below threshold\n",
        "filtered_loss_values = [loss for loss in combined_loss if loss <= threshold]\n",
        "\n",
        "\n",
        "# Plot combined training and validation loss\n",
        "plt.plot(combined_loss, label='Training Loss')\n",
        "plt.plot(combined_val_loss, label='Validation Loss')\n",
        "plt.xlabel('Epoch')\n",
        "plt.ylabel('Loss')\n",
        "plt.title('Combined Training and Validation Loss')\n",
        "plt.legend()\n",
        "plt.show()"
      ],
      "metadata": {
        "colab": {
          "base_uri": "https://localhost:8080/",
          "height": 472
        },
        "id": "eiYj9HIbPvQs",
        "outputId": "5c00d8be-2860-44c8-a996-dac482b3083b"
      },
      "execution_count": null,
      "outputs": [
        {
          "output_type": "display_data",
          "data": {
            "text/plain": [
              "<Figure size 640x480 with 1 Axes>"
            ],
            "image/png": "[encoded data removed]"
          },
          "metadata": {}
        }
      ]
    },
    {
      "cell_type": "code",
      "source": [
        "# Plot combined training and validation accuracy\n",
        "plt.plot(combined_accuracy, label='Training Accuracy')\n",
        "plt.plot(combined_val_accuracy, label='Validation Accuracy')\n",
        "plt.xlabel('Epoch')\n",
        "plt.ylabel('Accuracy')\n",
        "plt.title('Combined Training and Validation Accuracy')\n",
        "plt.legend()\n",
        "plt.show()"
      ],
      "metadata": {
        "colab": {
          "base_uri": "https://localhost:8080/",
          "height": 219
        },
        "id": "kE06QN1pP2nF",
        "outputId": "4a5ebf22-c36b-4773-ff43-d98072b9d175"
      },
      "execution_count": null,
      "outputs": [
        {
          "output_type": "error",
          "ename": "NameError",
          "evalue": "name 'plt' is not defined",
          "traceback": [
            "\u001b[0;31m---------------------------------------------------------------------------\u001b[0m",
            "\u001b[0;31mNameError\u001b[0m                                 Traceback (most recent call last)",
            "\u001b[0;32m<ipython-input-1-555a057d3705>\u001b[0m in \u001b[0;36m<cell line: 2>\u001b[0;34m()\u001b[0m\n\u001b[1;32m      1\u001b[0m \u001b[0;31m# Plot combined training and validation accuracy\u001b[0m\u001b[0;34m\u001b[0m\u001b[0;34m\u001b[0m\u001b[0m\n\u001b[0;32m----> 2\u001b[0;31m \u001b[0mplt\u001b[0m\u001b[0;34m.\u001b[0m\u001b[0mplot\u001b[0m\u001b[0;34m(\u001b[0m\u001b[0mcombined_accuracy\u001b[0m\u001b[0;34m,\u001b[0m \u001b[0mlabel\u001b[0m\u001b[0;34m=\u001b[0m\u001b[0;34m'Training Accuracy'\u001b[0m\u001b[0;34m)\u001b[0m\u001b[0;34m\u001b[0m\u001b[0;34m\u001b[0m\u001b[0m\n\u001b[0m\u001b[1;32m      3\u001b[0m \u001b[0mplt\u001b[0m\u001b[0;34m.\u001b[0m\u001b[0mplot\u001b[0m\u001b[0;34m(\u001b[0m\u001b[0mcombined_val_accuracy\u001b[0m\u001b[0;34m,\u001b[0m \u001b[0mlabel\u001b[0m\u001b[0;34m=\u001b[0m\u001b[0;34m'Validation Accuracy'\u001b[0m\u001b[0;34m)\u001b[0m\u001b[0;34m\u001b[0m\u001b[0;34m\u001b[0m\u001b[0m\n\u001b[1;32m      4\u001b[0m \u001b[0mplt\u001b[0m\u001b[0;34m.\u001b[0m\u001b[0mxlabel\u001b[0m\u001b[0;34m(\u001b[0m\u001b[0;34m'Epoch'\u001b[0m\u001b[0;34m)\u001b[0m\u001b[0;34m\u001b[0m\u001b[0;34m\u001b[0m\u001b[0m\n\u001b[1;32m      5\u001b[0m \u001b[0mplt\u001b[0m\u001b[0;34m.\u001b[0m\u001b[0mylabel\u001b[0m\u001b[0;34m(\u001b[0m\u001b[0;34m'Accuracy'\u001b[0m\u001b[0;34m)\u001b[0m\u001b[0;34m\u001b[0m\u001b[0;34m\u001b[0m\u001b[0m\n",
            "\u001b[0;31mNameError\u001b[0m: name 'plt' is not defined"
          ]
        }
      ]
    },
    {
      "cell_type": "code",
      "source": [
        "import matplotlib.pyplot as plt\n",
        "# Plot training and validation loss\n",
        "plt.plot(history.history['loss'], label='Training Loss')\n",
        "plt.plot(history.history['val_loss'], label='Validation Loss')\n",
        "plt.xlabel('Epoch')\n",
        "plt.ylim(0, 2)\n",
        "plt.ylabel('Loss')\n",
        "plt.title('Training and Validation Loss')\n",
        "plt.legend()\n",
        "plt.savefig('1.png')\n",
        "plt.show()"
      ],
      "metadata": {
        "colab": {
          "base_uri": "https://localhost:8080/",
          "height": 472
        },
        "id": "zAPXGssO4477",
        "outputId": "b2d3df3c-ec25-4dac-cffb-cd379ee490af"
      },
      "execution_count": null,
      "outputs": [
        {
          "output_type": "display_data",
          "data": {
            "text/plain": [
              "<Figure size 640x480 with 1 Axes>"
            ],
            "image/png": "[encoded data removed]"
          },
          "metadata": {}
        }
      ]
    },
    {
      "cell_type": "code",
      "source": [
        "# Plot training accuracy\n",
        "# Plot training and validation accuracy\n",
        "plt.plot(history.history['accuracy'], label='Training Accuracy')\n",
        "plt.plot(history.history['val_accuracy'], label='Validation Accuracy')\n",
        "plt.xlabel('Epoch')\n",
        "plt.ylabel('Accuracy')\n",
        "plt.title('Training and Validation Accuracy')\n",
        "plt.legend()\n",
        "plt.savefig('2.png')\n",
        "plt.show()"
      ],
      "metadata": {
        "colab": {
          "base_uri": "https://localhost:8080/",
          "height": 472
        },
        "id": "QicuTsvP5CxS",
        "outputId": "50217559-a49a-4cc0-d9d7-db418840d398"
      },
      "execution_count": null,
      "outputs": [
        {
          "output_type": "display_data",
          "data": {
            "text/plain": [
              "<Figure size 640x480 with 1 Axes>"
            ],
            "image/png": "[encoded data removed]"
          },
          "metadata": {}
        }
      ]
    },
    {
      "cell_type": "code",
      "source": [
        "# Plot training precision\n",
        "plt.plot(history.history['precision'], label='Training Precision')\n",
        "plt.xlabel('Epoch')\n",
        "plt.ylabel('Precision')\n",
        "plt.title('Training Precision')\n",
        "plt.legend()\n",
        "plt.show()"
      ],
      "metadata": {
        "id": "Lvi4Roa-5Fxy"
      },
      "execution_count": null,
      "outputs": []
    },
    {
      "cell_type": "code",
      "source": [
        "# Plot training recall\n",
        "plt.plot(history.history['recall'], label='Training Recall')\n",
        "plt.xlabel('Epoch')\n",
        "plt.ylabel('Recall')\n",
        "plt.title('Training Recall')\n",
        "plt.legend()\n",
        "plt.show()"
      ],
      "metadata": {
        "id": "SxeikA3c5H64"
      },
      "execution_count": null,
      "outputs": []
    },
    {
      "cell_type": "markdown",
      "source": [
        "### predict attempt"
      ],
      "metadata": {
        "id": "3RkWfXvNm9Mx"
      }
    },
    {
      "cell_type": "code",
      "source": [
        "dl_model.save_weights('dl_model_weights.h5')"
      ],
      "metadata": {
        "id": "SoLHFL0D2oc6"
      },
      "execution_count": null,
      "outputs": []
    },
    {
      "cell_type": "code",
      "source": [
        "dl_model = get_dl_model_240()\n",
        "root_path = '/content/drive/MyDrive/ML project/Fusang/source_code/'\n",
        "dl_model.load_weights(filepath= root_path + 'dl_model/len_240/N1G/best_weights_clas').expect_partial()\n"
      ],
      "metadata": {
        "id": "gIBd0Ih4VqmP",
        "colab": {
          "base_uri": "https://localhost:8080/"
        },
        "outputId": "4b3b28f8-a774-4d50-e748-79546e98f499"
      },
      "execution_count": null,
      "outputs": [
        {
          "output_type": "stream",
          "name": "stdout",
          "text": [
            "63/63 [==============================] - 3s 13ms/step\n"
          ]
        }
      ]
    },
    {
      "cell_type": "code",
      "source": [
        "X_array_test.shape"
      ],
      "metadata": {
        "colab": {
          "base_uri": "https://localhost:8080/"
        },
        "id": "TRRPbMc74R3u",
        "outputId": "e2de25d8-5966-4100-adaa-677f22daf13b"
      },
      "execution_count": null,
      "outputs": [
        {
          "output_type": "execute_result",
          "data": {
            "text/plain": [
              "(2000, 4, 240, 1)"
            ]
          },
          "metadata": {},
          "execution_count": 63
        }
      ]
    },
    {
      "cell_type": "code",
      "source": [
        "predictions = dl_model.predict(X_array_test)\n",
        "print(predictions)"
      ],
      "metadata": {
        "colab": {
          "base_uri": "https://localhost:8080/"
        },
        "id": "HK2o1yMOrMMH",
        "outputId": "4b1df55e-3dd9-4fc0-cbcf-62d02c68f5ad"
      },
      "execution_count": null,
      "outputs": [
        {
          "output_type": "stream",
          "name": "stdout",
          "text": [
            "63/63 [==============================] - 11s 31ms/step\n",
            "[[7.77437725e-10 1.00000000e+00 1.28758240e-10]\n",
            " [7.58496972e-05 9.99913692e-01 1.05466725e-05]\n",
            " [2.09496147e-03 9.97849822e-01 5.52000638e-05]\n",
            " ...\n",
            " [3.34606171e-01 4.10901576e-01 2.54492283e-01]\n",
            " [7.77602717e-02 1.07157744e-01 8.15082014e-01]\n",
            " [4.63543497e-02 1.28113329e-01 8.25532317e-01]]\n"
          ]
        }
      ]
    },
    {
      "cell_type": "code",
      "source": [
        "predicted_labels = np.argmax(predictions, axis=1)\n",
        "print(predicted_labels)"
      ],
      "metadata": {
        "colab": {
          "base_uri": "https://localhost:8080/"
        },
        "id": "GPVc8WwXrP8E",
        "outputId": "e41ef806-98c0-42bf-b66f-b6907c0d01f9"
      },
      "execution_count": null,
      "outputs": [
        {
          "output_type": "stream",
          "name": "stdout",
          "text": [
            "[1 1 1 ... 1 2 2]\n"
          ]
        }
      ]
    },
    {
      "cell_type": "code",
      "source": [
        "true_labels = np.argmax(y_array_test, axis=1)\n",
        "print(true_labels)"
      ],
      "metadata": {
        "colab": {
          "base_uri": "https://localhost:8080/"
        },
        "id": "283GRn7Crnnk",
        "outputId": "a471dd6b-09a8-404b-f915-fd7d4e691d94"
      },
      "execution_count": null,
      "outputs": [
        {
          "output_type": "stream",
          "name": "stdout",
          "text": [
            "[1 1 1 ... 2 2 2]\n"
          ]
        }
      ]
    },
    {
      "cell_type": "code",
      "source": [
        "from sklearn.metrics import accuracy_score, f1_score\n",
        "accuracy = accuracy_score(true_labels, predicted_labels)\n",
        "\n",
        "# Calculate F1 score\n",
        "f1 = f1_score(true_labels, predicted_labels, average='weighted')\n",
        "\n",
        "print(\"Accuracy:\", accuracy)\n",
        "print(\"F1 Score:\", f1)"
      ],
      "metadata": {
        "colab": {
          "base_uri": "https://localhost:8080/"
        },
        "id": "PUoY2GQKrwer",
        "outputId": "16336203-4bff-45da-e532-ea04df69784f"
      },
      "execution_count": null,
      "outputs": [
        {
          "output_type": "stream",
          "name": "stdout",
          "text": [
            "Accuracy: 0.793\n",
            "F1 Score: 0.7926665684145425\n"
          ]
        }
      ]
    },
    {
      "cell_type": "code",
      "source": [
        "from sklearn.metrics import confusion_matrix\n",
        "import seaborn as sns\n",
        "import matplotlib.pyplot as plt\n",
        "\n",
        "\n",
        "# Calculate confusion matrix\n",
        "conf_matrix = confusion_matrix(true_labels, predicted_labels)\n",
        "\n",
        "# Plot confusion matrix\n",
        "plt.figure(figsize=(8, 6))\n",
        "sns.heatmap(conf_matrix, annot=True, fmt='d', cmap='Blues', xticklabels=['Class 0', 'Class 1', 'Class 2'], yticklabels=['Class 0', 'Class 1', 'Class 2'])\n",
        "plt.xlabel('Predicted Label')\n",
        "plt.ylabel('True Label')\n",
        "plt.title('Confusion Matrix')\n",
        "plt.savefig('confusion_matrix.png')\n",
        "plt.show()"
      ],
      "metadata": {
        "colab": {
          "base_uri": "https://localhost:8080/",
          "height": 564
        },
        "id": "xzlK_L-y8MFS",
        "outputId": "57abd699-a9e6-4309-b5e8-152b6c4e530c"
      },
      "execution_count": null,
      "outputs": [
        {
          "output_type": "display_data",
          "data": {
            "text/plain": [
              "<Figure size 800x600 with 2 Axes>"
            ],
            "image/png": "[encoded data removed]"
          },
          "metadata": {}
        }
      ]
    },
    {
      "cell_type": "code",
      "execution_count": null,
      "metadata": {
        "id": "qM8C8KWcTVvR"
      },
      "outputs": [],
      "source": [
        "dl_model.save_weights('dl_model_weights.h5')"
      ]
    },
    {
      "cell_type": "markdown",
      "metadata": {
        "id": "3deGDSbpgOo2"
      },
      "source": [
        "### testing on training data"
      ]
    },
    {
      "cell_type": "code",
      "execution_count": null,
      "metadata": {
        "id": "UveOSzOYgGwt"
      },
      "outputs": [],
      "source": [
        "k = 0\n",
        "TP = 0\n",
        "TN = 0\n",
        "FP = 0\n",
        "FN = 0\n",
        "\n",
        "for i in tqdm(range(len(X_train))):\n",
        "  msa_dir = \"/content/drive/MyDrive/ML project/Fusang/source_code/example_msa/a.fas\"\n",
        "  save_prefix = f\"dl_output_2_{i}\"\n",
        "  beam_size = '1'\n",
        "  sequence_type = 'standard'\n",
        "  branch_model = 'gamma'\n",
        "  window_coverage = '1'\n",
        "  taxa_name = {0: '0', 1: '1', 2: '2', 3: '3'}\n",
        "  taxa_num = 4\n",
        "\n",
        "  flag = 0\n",
        "  support_format = ['.fas', '.phy', '.fasta', 'phylip']\n",
        "  bio_format = ['fasta', 'phylip', 'fasta', 'phylip']\n",
        "\n",
        "  len_of_msa = 1000\n",
        "\n",
        "  # print(f\"length of msa: \", len_of_msa)\n",
        "  # print(f\"taxa name: \", taxa_name)\n",
        "  # print(f\"taxa num: \", taxa_num)\n",
        "\n",
        "  # if flag == 0:\n",
        "  #     print('we do not support this format of msa')\n",
        "  #     sys.exit(1)\n",
        "\n",
        "  #logging.warning(taxa_num)\n",
        "\n",
        "  start_end_list = [None, None, None]\n",
        "\n",
        "  end = -1\n",
        "  for i in range(3, 100):\n",
        "      start = end + 1\n",
        "      end = start + int(comb_math(i,3)) - 1\n",
        "      start_end_list.append((start,end))\n",
        "\n",
        "  id_for_taxa = [i for i in range(0, taxa_num)]\n",
        "  comb_of_id = list(combinations(id_for_taxa, 4))\n",
        "  comb_of_id.sort(key=lambda ele: ele[-1])\n",
        "  print(len(comb_of_id))\n",
        "\n",
        "  leave_node_id = [i for i in range(0, taxa_num)]\n",
        "  leave_node_name = [chr(ord(u'\\u4e00')+i) for i in range(0, taxa_num)]\n",
        "  leave_node_comb_id = comb_of_id\n",
        "\n",
        "  leave_node_comb_name = []\n",
        "\n",
        "  dic_for_leave_node_comb_name = {}\n",
        "\n",
        "  for ele in leave_node_comb_id:\n",
        "      term = [chr(ord(u'\\u4e00')+id) for id in ele]\n",
        "      dic_for_leave_node_comb_name[\"\".join(term)] = len(dic_for_leave_node_comb_name)\n",
        "      leave_node_comb_name.append(\"\".join(term))\n",
        "\n",
        "  internal_node_name_pool = ['internal_node_' + str(i) for i in range(3, 3000)]\n",
        "\n",
        "  # fusang_msa_dir = save_prefix + '_fusang.fas'\n",
        "  # org_seq = get_numpy(fusang_msa_dir)\n",
        "  # os.remove(fusang_msa_dir)\n",
        "\n",
        "  org_seq = X_train[k]\n",
        "\n",
        "\n",
        "  # print(\"org_seq type is:\")\n",
        "  # print(org_seq)\n",
        "\n",
        "  window_number = 1\n",
        "\n",
        "\n",
        "  root_path = '/content/drive/MyDrive/ML project/Fusang/source_code/'\n",
        "\n",
        "  if len_of_msa <= 1210:\n",
        "      dl_model = get_dl_model_240()\n",
        "      dl_model.load_weights('dl_model_weights.h5')\n",
        "\n",
        "      window_number = int(len_of_msa * float(window_coverage) // 240 + 1)\n",
        "\n",
        "  elif len_of_msa > 1210:\n",
        "      dl_model = get_dl_model_1200()\n",
        "\n",
        "      dl_model.load_weights('dl_model_weights.h5')\n",
        "      window_number = int(len_of_msa * float(window_coverage) // 1200 + 1)\n",
        "\n",
        "\n",
        "  dl_predict = np.zeros((len(comb_of_id), 3))\n",
        "\n",
        "  if len_of_msa > 1210:\n",
        "      fill_dl_predict(window_number)\n",
        "  elif len_of_msa <= 1210:\n",
        "      fill_dl_predict_2(window_number)\n",
        "  else:\n",
        "      print('current version of fusang do not support this length of MSA')\n",
        "      sys.exit(1)\n",
        "\n",
        "  dl_predict /= window_number\n",
        "\n",
        "  print(\"\\n\", dl_predict)\n",
        "\n",
        "  #based on dl_predict of shape (1, 3), generate topology index\n",
        "  y_pred = np.argmax(dl_predict, axis=1)\n",
        "  y_true = y_train[k]\n",
        "  # update TP, TN, FP, FN\n",
        "  if y_pred == 0 and y_true == 0:\n",
        "    TP += 1\n",
        "  elif y_pred == 0 and y_true != 0:\n",
        "    FP += 1\n",
        "  elif y_pred != 0 and y_true == 0:\n",
        "    FN += 1\n",
        "  else:\n",
        "    TN += 1\n",
        "\n",
        "  #np.save('./dl_predict.npy', dl_predict)\n",
        "  #dl_predict = np.load('./dl_predict.npy')\n",
        "\n",
        "  if not os.path.exists('./dl_output/'):\n",
        "      os.mkdir('./dl_output/')\n",
        "\n",
        "  if taxa_num > 10:\n",
        "      searched_tree = transform_str(gen_phylogenetic_tree_2(dl_predict, int(beam_size)), taxa_name)\n",
        "  else:\n",
        "      searched_tree = transform_str(gen_phylogenetic_tree(dl_predict, int(beam_size)), taxa_name)\n",
        "\n",
        "  build_log = open('./dl_output/{}.txt'.format(save_prefix), 'a')\n",
        "  build_log.write(searched_tree)\n",
        "  build_log.close()\n",
        "\n",
        "\n",
        "  k = k+1\n",
        "\n",
        "print(f\"TP: {TP}, TN: {TN}, FP: {FP}, FN: {FN}\")\n",
        "print(f\"Accuracy: {(TP+TN)/(TP+TN+FP+FN)}\")\n",
        "print(f\"Precision: {TP/(TP+FP)}\")\n",
        "print(f\"Recall: {TP/(TP+FN)}\")\n",
        "print(f\"F1 score: {2*TP/(2*TP+FP+FN)}\")"
      ]
    },
    {
      "cell_type": "code",
      "execution_count": null,
      "metadata": {
        "id": "ckbK05w2pBLg"
      },
      "outputs": [],
      "source": [
        "from tqdm import tqdm\n",
        "for i in tqdm(range(len(X_train))):\n",
        "  print()\n",
        "  print(X_train[i])\n",
        "  print()"
      ]
    },
    {
      "cell_type": "markdown",
      "metadata": {
        "id": "vu_aioT9HXot"
      },
      "source": [
        "### Training"
      ]
    },
    {
      "cell_type": "code",
      "execution_count": null,
      "metadata": {
        "colab": {
          "base_uri": "https://localhost:8080/"
        },
        "id": "I2yFdOXhsZNn",
        "outputId": "aee70a64-b156-42bb-acdc-385757228935"
      },
      "outputs": [
        {
          "name": "stdout",
          "output_type": "stream",
          "text": [
            "(1, 3)\n"
          ]
        }
      ],
      "source": [
        "print(dl_predict.shape)"
      ]
    },
    {
      "cell_type": "markdown",
      "metadata": {
        "id": "4VU1wXBVdKVW"
      },
      "source": [
        "### tree topo for WQFM"
      ]
    },
    {
      "cell_type": "code",
      "execution_count": null,
      "metadata": {
        "id": "g121Ug8Pxa6D"
      },
      "outputs": [],
      "source": [
        "import itertools\n",
        "\n",
        "def calculate_probability(tree_topology, probabilities):\n",
        "    prob = 1\n",
        "    for pair in tree_topology:\n",
        "        prob *= probabilities[pair[0]] * probabilities[pair[1]]\n",
        "    return prob\n",
        "\n",
        "def generate_tree_topologies(elements):\n",
        "    return itertools.combinations(itertools.combinations(elements, 2), len(elements)//2)\n",
        "\n",
        "def generate_output(comb, prob):\n",
        "    for topology, probability in zip(comb, prob):\n",
        "        output = ''\n",
        "        for pair in topology:\n",
        "            output += f'({pair[0]},{pair[1]}),'\n",
        "        output = output[:-1]  # Remove the trailing comma\n",
        "        output += f' ; {probability}'\n",
        "        print(output)\n",
        "\n",
        "comb = [(0,1,2,3)]  # single element in the list\n",
        "prob = [[9.99999702e-01, 7.39642250e-08, 2.13542464e-07]]  # single element in the list\n",
        "\n",
        "elements = comb[0]\n",
        "probabilities = prob[0]\n",
        "\n",
        "tree_topologies = generate_tree_topologies(elements)\n",
        "for topology in tree_topologies:\n",
        "    print(topology)\n"
      ]
    },
    {
      "cell_type": "code",
      "execution_count": null,
      "metadata": {
        "colab": {
          "base_uri": "https://localhost:8080/"
        },
        "id": "L9_eEc_W3jAR",
        "outputId": "ed27c033-0f7f-41db-d77d-5ea84d342cbb"
      },
      "outputs": [
        {
          "output_type": "stream",
          "name": "stdout",
          "text": [
            "((0, 1), (2, 3))\n",
            "((0, 2), (1, 3))\n",
            "((0, 3), (1, 2))\n",
            "((0, 1), (2, 4))\n",
            "((0, 2), (1, 4))\n",
            "((0, 4), (1, 2))\n",
            "((1, 2), (3, 4))\n",
            "((1, 3), (2, 4))\n",
            "((1, 4), (2, 3))\n"
          ]
        }
      ],
      "source": [
        "from itertools import combinations\n",
        "\n",
        "def tree_topology(quartets):\n",
        "    tree_topologies = []\n",
        "    for nodes in quartets:\n",
        "        node_pairs = list(combinations(nodes, len(nodes) // 2))\n",
        "        for pair in node_pairs[:len(node_pairs)//2]:\n",
        "            remaining_nodes = list(nodes)\n",
        "            for node in pair:\n",
        "                remaining_nodes.remove(node)\n",
        "            tree_topology = (pair, tuple(remaining_nodes))\n",
        "            tree_topologies.append(tree_topology)\n",
        "    return tree_topologies\n",
        "\n",
        "list_quartet = [(0, 1, 2, 3), (0, 1, 2, 4), (1, 2, 3, 4)]\n",
        "topologies = tree_topology(list_quartet)\n",
        "for topology in topologies:\n",
        "    print(topology)\n"
      ]
    },
    {
      "cell_type": "code",
      "execution_count": null,
      "metadata": {
        "colab": {
          "base_uri": "https://localhost:8080/"
        },
        "id": "AzxKs8Bo3lo6",
        "outputId": "0f808dea-64e9-406d-8ed8-19193c74abd5"
      },
      "outputs": [
        {
          "name": "stdout",
          "output_type": "stream",
          "text": [
            "[0.999999702, 7.3964225e-08, 2.13542464e-07, 0.983438581, 0.00665196823, 0.00990937138, 0.993414193, 0.0024526745, 0.00413305021]\n"
          ]
        }
      ],
      "source": [
        "import numpy as np\n",
        "\n",
        "def flatten_list(list_of_arrays):\n",
        "    flattened_list = []\n",
        "    for array in list_of_arrays:\n",
        "        if isinstance(array, np.ndarray):\n",
        "            flattened_list.extend(array.flatten())\n",
        "        else:\n",
        "            flattened_list.append(float(array))\n",
        "    return flattened_list\n",
        "\n",
        "# Example usage\n",
        "\n",
        "\n",
        "result = flatten_list(dl_predict)\n",
        "print(result)\n"
      ]
    },
    {
      "cell_type": "code",
      "source": [
        "print(dl_predict)"
      ],
      "metadata": {
        "colab": {
          "base_uri": "https://localhost:8080/"
        },
        "id": "-9Kgqu98E5BX",
        "outputId": "60d8651f-aeda-4ec6-82ff-97cd0d79f8ba"
      },
      "execution_count": null,
      "outputs": [
        {
          "output_type": "stream",
          "name": "stdout",
          "text": [
            "[[7.61078417e-01 1.54987549e-01 8.39340812e-02]\n",
            " [5.55159268e-01 7.00606279e-02 3.74780092e-01]\n",
            " [5.39546927e-01 6.93103850e-02 3.91142695e-01]\n",
            " [1.99618620e-01 2.36619148e-01 5.63762233e-01]\n",
            " [2.31661189e-01 2.98791443e-01 4.69547391e-01]\n",
            " [6.45647120e-01 1.77373552e-01 1.76979336e-01]\n",
            " [6.33922732e-01 1.90632603e-01 1.75444661e-01]\n",
            " [9.99353945e-01 4.56232369e-04 1.89843124e-04]\n",
            " [2.68177464e-01 3.41049278e-01 3.90773267e-01]\n",
            " [9.99290061e-01 4.82016860e-04 2.27911701e-04]\n",
            " [9.99232483e-01 5.14330907e-04 2.53179490e-04]\n",
            " [2.37388245e-01 3.05950527e-01 4.56661221e-01]\n",
            " [9.99922550e-01 2.49766971e-05 5.25138103e-05]\n",
            " [9.99930286e-01 1.91974395e-05 5.05096365e-05]\n",
            " [9.99851477e-01 4.44518592e-05 1.04056406e-04]\n",
            " [6.22084771e-01 1.84077515e-01 1.93837717e-01]\n",
            " [6.21508256e-01 2.03439984e-01 1.75051765e-01]\n",
            " [9.51751781e-01 4.73609273e-02 8.87271734e-04]\n",
            " [9.98681808e-01 6.84870182e-04 6.33347741e-04]\n",
            " [2.88843496e-01 3.35888427e-01 3.75268087e-01]\n",
            " [9.36624098e-01 6.03653440e-02 3.01055332e-03]\n",
            " [9.80396247e-01 1.71250920e-02 2.47865347e-03]\n",
            " [9.41007662e-01 5.63674826e-02 2.62483559e-03]\n",
            " [9.80938423e-01 1.68737834e-02 2.18782588e-03]\n",
            " [2.18826645e-01 9.33045447e-02 6.87868822e-01]\n",
            " [2.72630231e-01 3.09867096e-01 4.17502671e-01]\n",
            " [9.75232303e-01 2.13324665e-02 3.43525564e-03]\n",
            " [9.68340218e-01 2.84710009e-02 3.18880591e-03]\n",
            " [9.79296255e-01 1.81648572e-02 2.53892699e-03]\n",
            " [9.70553935e-01 2.68043025e-02 2.64176132e-03]\n",
            " [4.30110143e-02 7.01489363e-02 8.86840045e-01]\n",
            " [9.81410980e-01 1.44760056e-02 4.11301774e-03]\n",
            " [9.76234353e-01 1.96950023e-02 4.07067678e-03]\n",
            " [3.85050079e-02 5.67075767e-02 9.04787421e-01]\n",
            " [3.71999015e-02 6.61584715e-02 8.96641648e-01]\n",
            " [6.35269560e-01 1.67606772e-01 1.97123636e-01]\n",
            " [6.26407875e-01 1.91984288e-01 1.81607855e-01]\n",
            " [9.41854763e-01 5.73187545e-02 8.26489401e-04]\n",
            " [9.98692465e-01 5.98674250e-04 7.08831037e-04]\n",
            " [9.99242771e-01 4.41574212e-04 3.15652396e-04]\n",
            " [2.64397772e-01 3.33236635e-01 4.02365601e-01]\n",
            " [9.41827428e-01 5.56496957e-02 2.52287854e-03]\n",
            " [9.94827056e-01 2.55972671e-03 2.61320241e-03]\n",
            " [9.99244571e-01 4.18239134e-04 3.37190332e-04]\n",
            " [9.41567421e-01 5.61628909e-02 2.26968673e-03]\n",
            " [9.95336199e-01 2.49798666e-03 2.16581529e-03]\n",
            " [9.99217153e-01 4.20653846e-04 3.62221818e-04]\n",
            " [1.65535010e-01 8.48616463e-02 7.49603355e-01]\n",
            " [8.95884633e-01 5.91529211e-02 4.49624418e-02]\n",
            " [7.95719552e-01 1.43066025e-01 6.12144460e-02]\n",
            " [2.36795368e-01 3.01495726e-01 4.61708891e-01]\n",
            " [9.94629312e-01 2.64614147e-03 2.72456454e-03]\n",
            " [9.93796706e-01 3.06695266e-03 3.13631793e-03]\n",
            " [9.99440181e-01 1.34618276e-04 4.25161453e-04]\n",
            " [9.95399988e-01 2.43648444e-03 2.16351767e-03]\n",
            " [9.94462025e-01 2.95360042e-03 2.58433256e-03]\n",
            " [9.99423218e-01 1.29529826e-04 4.47263501e-04]\n",
            " [3.65263079e-02 6.35780927e-02 8.99895597e-01]\n",
            " [7.58080554e-01 1.40482788e-01 1.01436668e-01]\n",
            " [7.60403472e-01 1.35768576e-01 1.03827948e-01]\n",
            " [9.93456531e-01 2.66947947e-03 3.87397541e-03]\n",
            " [9.92433703e-01 3.06764613e-03 4.49864999e-03]\n",
            " [9.99460530e-01 1.15316503e-04 4.24180298e-04]\n",
            " [2.75270018e-02 5.60498615e-02 9.16423130e-01]\n",
            " [7.63424945e-01 1.40985232e-01 9.55898019e-02]\n",
            " [7.64724189e-01 1.36733225e-01 9.85426042e-02]\n",
            " [2.99806002e-02 6.16327079e-02 9.08386707e-01]\n",
            " [7.73075032e-01 1.37223467e-01 8.97014988e-02]\n",
            " [7.70639777e-01 1.34215744e-01 9.51444325e-02]\n",
            " [9.88527536e-01 3.93567195e-03 7.53679001e-03]]\n"
          ]
        }
      ]
    },
    {
      "cell_type": "code",
      "execution_count": null,
      "metadata": {
        "colab": {
          "base_uri": "https://localhost:8080/"
        },
        "id": "b91z9FGB40xj",
        "outputId": "ba302fa0-4677-4494-cb39-f377d68cc4d3"
      },
      "outputs": [
        {
          "output_type": "stream",
          "name": "stdout",
          "text": [
            "((0, 1), (2, 3)); 0.761078417\n",
            "((0, 2), (1, 3)); 0.154987549\n",
            "((0, 3), (1, 2)); 0.083934081\n",
            "((0, 1), (2, 4)); 0.555159268\n",
            "((0, 2), (1, 4)); 0.070060628\n",
            "((0, 4), (1, 2)); 0.374780092\n",
            "((0, 1), (3, 4)); 0.539546927\n",
            "((0, 3), (1, 4)); 0.069310385\n",
            "((0, 4), (1, 3)); 0.391142695\n",
            "((0, 2), (3, 4)); 0.199618620\n",
            "((0, 3), (2, 4)); 0.236619148\n",
            "((0, 4), (2, 3)); 0.563762233\n",
            "((1, 2), (3, 4)); 0.231661189\n",
            "((1, 3), (2, 4)); 0.298791443\n",
            "((1, 4), (2, 3)); 0.469547391\n",
            "((0, 1), (2, 5)); 0.645647120\n",
            "((0, 2), (1, 5)); 0.177373552\n",
            "((0, 5), (1, 2)); 0.176979336\n",
            "((0, 1), (3, 5)); 0.633922732\n",
            "((0, 3), (1, 5)); 0.190632603\n",
            "((0, 5), (1, 3)); 0.175444661\n",
            "((0, 1), (4, 5)); 0.999353945\n",
            "((0, 4), (1, 5)); 0.000456232\n",
            "((0, 5), (1, 4)); 0.000189843\n",
            "((0, 2), (3, 5)); 0.268177464\n",
            "((0, 3), (2, 5)); 0.341049278\n",
            "((0, 5), (2, 3)); 0.390773267\n",
            "((0, 2), (4, 5)); 0.999290061\n",
            "((0, 4), (2, 5)); 0.000482017\n",
            "((0, 5), (2, 4)); 0.000227912\n",
            "((0, 3), (4, 5)); 0.999232483\n",
            "((0, 4), (3, 5)); 0.000514331\n",
            "((0, 5), (3, 4)); 0.000253179\n",
            "((1, 2), (3, 5)); 0.237388245\n",
            "((1, 3), (2, 5)); 0.305950527\n",
            "((1, 5), (2, 3)); 0.456661221\n",
            "((1, 2), (4, 5)); 0.999922550\n",
            "((1, 4), (2, 5)); 0.000024977\n",
            "((1, 5), (2, 4)); 0.000052514\n",
            "((1, 3), (4, 5)); 0.999930286\n",
            "((1, 4), (3, 5)); 0.000019197\n",
            "((1, 5), (3, 4)); 0.000050510\n",
            "((2, 3), (4, 5)); 0.999851477\n",
            "((2, 4), (3, 5)); 0.000044452\n",
            "((2, 5), (3, 4)); 0.000104056\n",
            "((0, 1), (2, 6)); 0.622084771\n",
            "((0, 2), (1, 6)); 0.184077515\n",
            "((0, 6), (1, 2)); 0.193837717\n",
            "((0, 1), (3, 6)); 0.621508256\n",
            "((0, 3), (1, 6)); 0.203439984\n",
            "((0, 6), (1, 3)); 0.175051765\n",
            "((0, 1), (4, 6)); 0.951751781\n",
            "((0, 4), (1, 6)); 0.047360927\n",
            "((0, 6), (1, 4)); 0.000887272\n",
            "((0, 1), (5, 6)); 0.998681808\n",
            "((0, 5), (1, 6)); 0.000684870\n",
            "((0, 6), (1, 5)); 0.000633348\n",
            "((0, 2), (3, 6)); 0.288843496\n",
            "((0, 3), (2, 6)); 0.335888427\n",
            "((0, 6), (2, 3)); 0.375268087\n",
            "((0, 2), (4, 6)); 0.936624098\n",
            "((0, 4), (2, 6)); 0.060365344\n",
            "((0, 6), (2, 4)); 0.003010553\n",
            "((0, 2), (5, 6)); 0.980396247\n",
            "((0, 5), (2, 6)); 0.017125092\n",
            "((0, 6), (2, 5)); 0.002478653\n",
            "((0, 3), (4, 6)); 0.941007662\n",
            "((0, 4), (3, 6)); 0.056367483\n",
            "((0, 6), (3, 4)); 0.002624836\n",
            "((0, 3), (5, 6)); 0.980938423\n",
            "((0, 5), (3, 6)); 0.016873783\n",
            "((0, 6), (3, 5)); 0.002187826\n",
            "((0, 4), (5, 6)); 0.218826645\n",
            "((0, 5), (4, 6)); 0.093304545\n",
            "((0, 6), (4, 5)); 0.687868822\n",
            "((1, 2), (3, 6)); 0.272630231\n",
            "((1, 3), (2, 6)); 0.309867096\n",
            "((1, 6), (2, 3)); 0.417502671\n",
            "((1, 2), (4, 6)); 0.975232303\n",
            "((1, 4), (2, 6)); 0.021332466\n",
            "((1, 6), (2, 4)); 0.003435256\n",
            "((1, 2), (5, 6)); 0.968340218\n",
            "((1, 5), (2, 6)); 0.028471001\n",
            "((1, 6), (2, 5)); 0.003188806\n",
            "((1, 3), (4, 6)); 0.979296255\n",
            "((1, 4), (3, 6)); 0.018164857\n",
            "((1, 6), (3, 4)); 0.002538927\n",
            "((1, 3), (5, 6)); 0.970553935\n",
            "((1, 5), (3, 6)); 0.026804303\n",
            "((1, 6), (3, 5)); 0.002641761\n",
            "((1, 4), (5, 6)); 0.043011014\n",
            "((1, 5), (4, 6)); 0.070148936\n",
            "((1, 6), (4, 5)); 0.886840045\n",
            "((2, 3), (4, 6)); 0.981410980\n",
            "((2, 4), (3, 6)); 0.014476006\n",
            "((2, 6), (3, 4)); 0.004113018\n",
            "((2, 3), (5, 6)); 0.976234353\n",
            "((2, 5), (3, 6)); 0.019695002\n",
            "((2, 6), (3, 5)); 0.004070677\n",
            "((2, 4), (5, 6)); 0.038505008\n",
            "((2, 5), (4, 6)); 0.056707577\n",
            "((2, 6), (4, 5)); 0.904787421\n",
            "((3, 4), (5, 6)); 0.037199902\n",
            "((3, 5), (4, 6)); 0.066158471\n",
            "((3, 6), (4, 5)); 0.896641648\n",
            "((0, 1), (2, 7)); 0.635269560\n",
            "((0, 2), (1, 7)); 0.167606772\n",
            "((0, 7), (1, 2)); 0.197123636\n",
            "((0, 1), (3, 7)); 0.626407875\n",
            "((0, 3), (1, 7)); 0.191984288\n",
            "((0, 7), (1, 3)); 0.181607855\n",
            "((0, 1), (4, 7)); 0.941854763\n",
            "((0, 4), (1, 7)); 0.057318755\n",
            "((0, 7), (1, 4)); 0.000826489\n",
            "((0, 1), (5, 7)); 0.998692465\n",
            "((0, 5), (1, 7)); 0.000598674\n",
            "((0, 7), (1, 5)); 0.000708831\n",
            "((0, 1), (6, 7)); 0.999242771\n",
            "((0, 6), (1, 7)); 0.000441574\n",
            "((0, 7), (1, 6)); 0.000315652\n",
            "((0, 2), (3, 7)); 0.264397772\n",
            "((0, 3), (2, 7)); 0.333236635\n",
            "((0, 7), (2, 3)); 0.402365601\n",
            "((0, 2), (4, 7)); 0.941827428\n",
            "((0, 4), (2, 7)); 0.055649696\n",
            "((0, 7), (2, 4)); 0.002522879\n",
            "((0, 2), (5, 7)); 0.994827056\n",
            "((0, 5), (2, 7)); 0.002559727\n",
            "((0, 7), (2, 5)); 0.002613202\n",
            "((0, 2), (6, 7)); 0.999244571\n",
            "((0, 6), (2, 7)); 0.000418239\n",
            "((0, 7), (2, 6)); 0.000337190\n",
            "((0, 3), (4, 7)); 0.941567421\n",
            "((0, 4), (3, 7)); 0.056162891\n",
            "((0, 7), (3, 4)); 0.002269687\n",
            "((0, 3), (5, 7)); 0.995336199\n",
            "((0, 5), (3, 7)); 0.002497987\n",
            "((0, 7), (3, 5)); 0.002165815\n",
            "((0, 3), (6, 7)); 0.999217153\n",
            "((0, 6), (3, 7)); 0.000420654\n",
            "((0, 7), (3, 6)); 0.000362222\n",
            "((0, 4), (5, 7)); 0.165535010\n",
            "((0, 5), (4, 7)); 0.084861646\n",
            "((0, 7), (4, 5)); 0.749603355\n",
            "((0, 4), (6, 7)); 0.895884633\n",
            "((0, 6), (4, 7)); 0.059152921\n",
            "((0, 7), (4, 6)); 0.044962442\n",
            "((0, 5), (6, 7)); 0.795719552\n",
            "((0, 6), (5, 7)); 0.143066025\n",
            "((0, 7), (5, 6)); 0.061214446\n",
            "((1, 2), (3, 7)); 0.236795368\n",
            "((1, 3), (2, 7)); 0.301495726\n",
            "((1, 7), (2, 3)); 0.461708891\n",
            "((1, 2), (4, 7)); 0.994629312\n",
            "((1, 4), (2, 7)); 0.002646141\n",
            "((1, 7), (2, 4)); 0.002724565\n",
            "((1, 2), (5, 7)); 0.993796706\n",
            "((1, 5), (2, 7)); 0.003066953\n",
            "((1, 7), (2, 5)); 0.003136318\n",
            "((1, 2), (6, 7)); 0.999440181\n",
            "((1, 6), (2, 7)); 0.000134618\n",
            "((1, 7), (2, 6)); 0.000425161\n",
            "((1, 3), (4, 7)); 0.995399988\n",
            "((1, 4), (3, 7)); 0.002436484\n",
            "((1, 7), (3, 4)); 0.002163518\n",
            "((1, 3), (5, 7)); 0.994462025\n",
            "((1, 5), (3, 7)); 0.002953600\n",
            "((1, 7), (3, 5)); 0.002584333\n",
            "((1, 3), (6, 7)); 0.999423218\n",
            "((1, 6), (3, 7)); 0.000129530\n",
            "((1, 7), (3, 6)); 0.000447264\n",
            "((1, 4), (5, 7)); 0.036526308\n",
            "((1, 5), (4, 7)); 0.063578093\n",
            "((1, 7), (4, 5)); 0.899895597\n",
            "((1, 4), (6, 7)); 0.758080554\n",
            "((1, 6), (4, 7)); 0.140482788\n",
            "((1, 7), (4, 6)); 0.101436668\n",
            "((1, 5), (6, 7)); 0.760403472\n",
            "((1, 6), (5, 7)); 0.135768576\n",
            "((1, 7), (5, 6)); 0.103827948\n",
            "((2, 3), (4, 7)); 0.993456531\n",
            "((2, 4), (3, 7)); 0.002669479\n",
            "((2, 7), (3, 4)); 0.003873975\n",
            "((2, 3), (5, 7)); 0.992433703\n",
            "((2, 5), (3, 7)); 0.003067646\n",
            "((2, 7), (3, 5)); 0.004498650\n",
            "((2, 3), (6, 7)); 0.999460530\n",
            "((2, 6), (3, 7)); 0.000115317\n",
            "((2, 7), (3, 6)); 0.000424180\n",
            "((2, 4), (5, 7)); 0.027527002\n",
            "((2, 5), (4, 7)); 0.056049861\n",
            "((2, 7), (4, 5)); 0.916423130\n",
            "((2, 4), (6, 7)); 0.763424945\n",
            "((2, 6), (4, 7)); 0.140985232\n",
            "((2, 7), (4, 6)); 0.095589802\n",
            "((2, 5), (6, 7)); 0.764724189\n",
            "((2, 6), (5, 7)); 0.136733225\n",
            "((2, 7), (5, 6)); 0.098542604\n",
            "((3, 4), (5, 7)); 0.029980600\n",
            "((3, 5), (4, 7)); 0.061632708\n",
            "((3, 7), (4, 5)); 0.908386707\n",
            "((3, 4), (6, 7)); 0.773075032\n",
            "((3, 6), (4, 7)); 0.137223467\n",
            "((3, 7), (4, 6)); 0.089701499\n",
            "((3, 5), (6, 7)); 0.770639777\n",
            "((3, 6), (5, 7)); 0.134215744\n",
            "((3, 7), (5, 6)); 0.095144432\n",
            "((4, 5), (6, 7)); 0.988527536\n",
            "((4, 6), (5, 7)); 0.003935672\n",
            "((4, 7), (5, 6)); 0.007536790\n"
          ]
        }
      ],
      "source": [
        "import numpy as np\n",
        "from itertools import combinations\n",
        "\n",
        "def flatten_list(list_of_arrays):\n",
        "    flattened_list = []\n",
        "    for array in list_of_arrays:\n",
        "        if isinstance(array, np.ndarray):\n",
        "            flattened_list.extend(array.flatten())\n",
        "        else:\n",
        "            flattened_list.append(float(array))\n",
        "    return flattened_list\n",
        "\n",
        "def combine_values(comb, values):\n",
        "    combined_values = []\n",
        "    for nodes, value in zip(comb, values):\n",
        "        pairs = [(nodes[:2], nodes[2:]), value]\n",
        "        combined_values.append(pairs)\n",
        "    return combined_values\n",
        "\n",
        "#comb = [(0, 1, 2, 3), (0, 1, 2, 4), (1, 2, 3, 4)]\n",
        "comb = comb_of_id\n",
        "# #list_of_arrays = np.array([[9.99999702e-01, 7.39642250e-08, 2.13542464e-07],\n",
        "#                             [9.83438581e-01, 6.65196823e-03, 9.90937138e-03],\n",
        "#                             [9.93414193e-01, 2.45267450e-03, 4.13305021e-03]])\n",
        "values = flatten_list(dl_predict)\n",
        "\n",
        "topologies = tree_topology(comb)\n",
        "for (topology, value) in zip(topologies, values):\n",
        "    print(f\"{topology}; {value:.9f}\")\n"
      ]
    },
    {
      "cell_type": "code",
      "source": [],
      "metadata": {
        "id": "CngPHr2cFDj6"
      },
      "execution_count": null,
      "outputs": []
    }
  ],
  "metadata": {
    "colab": {
      "collapsed_sections": [
        "ktw9YYvDytvf",
        "4eb994seyyrA",
        "Tg0kWaKVujnq",
        "oKUeLSWTuoPj",
        "q_fVgcqKu8Z7",
        "iYxraziCvYQU",
        "1ZTO6xa4vmGj",
        "c9t8yTSavyOC",
        "CIcW-K8TwLKT",
        "koH5cm-fxLIC",
        "gsRn9CzTxDVT",
        "uxRAoYHCx3wy"
      ],
      "provenance": [],
      "gpuType": "T4",
      "include_colab_link": true
    },
    "kernelspec": {
      "display_name": "Python 3",
      "name": "python3"
    },
    "language_info": {
      "name": "python"
    },
    "accelerator": "GPU"
  },
  "nbformat": 4,
  "nbformat_minor": 0
}